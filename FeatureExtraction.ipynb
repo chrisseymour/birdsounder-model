{
 "cells": [
  {
   "cell_type": "markdown",
   "metadata": {},
   "source": [
    "## to add\n",
    "- ~~look at frequencies found around peak volume (more than just two, see what optimal number is)\n",
    "- ~~remove points at the two ends of the spectrum, they are not going to be right at the peak\n",
    "    - this will reduce the number of false peaks found, and we can get the two tallest peaks\n",
    "    - then take the difference in frequency between the two tallest peaks (and maybe the height percentage)\n",
    "    - this should add infromation that just the peak location will not provide\n",
    "- top two frequencies from each specrtum\n",
    "- check the power in each frequency-band\n",
    "- if same birds keep getting mis-identified (due to similar frequencies) just classify them into a single group\n",
    "- apply filter to groups\n",
    "    -determine filter level based on whether the background frequency up to a certain band is there for the entire signal!!!!\n",
    "- cast the signal into a different sample rate, see if it gets better/differnt results\n",
    "- maybe use flatness locator from librosa\n"
   ]
  },
  {
   "cell_type": "markdown",
   "metadata": {},
   "source": [
    "if same binning for the differnt transform types (i.e. the 'loudest point')\n",
    "- extract the different features from each of the spectra at that bin location\n",
    "- Q: to use all of the cepstral coefficients? or just the 'most important'?\n",
    "    - how to know what the most important cepstralcoefficients are?\n",
    "    "
   ]
  },
  {
   "cell_type": "markdown",
   "metadata": {},
   "source": [
    "librosa produces 320 bins by defaults (this depends of sample rate?) (44100) -> (125)\n",
    "48000 -> (136 bins)\n",
    "\n",
    "- peak spacing in rms peaks\n",
    "- get prominent frequency for torch mel spectrogram\n",
    "- distance between volume peaks in mrel spec\n",
    "- number of peaks in rms spcrum?"
   ]
  },
  {
   "cell_type": "markdown",
   "metadata": {},
   "source": [
    "turn off ~~smart~~ *dumb* complete"
   ]
  },
  {
   "cell_type": "code",
   "execution_count": 33,
   "metadata": {},
   "outputs": [
    {
     "data": {
      "text/plain": [
       "{'Notebook': {'Toolbar': True, 'Header': True},\n",
       " 'CodeCell': {'cm_config': {'autoCloseBrackets': False}}}"
      ]
     },
     "execution_count": 33,
     "metadata": {},
     "output_type": "execute_result"
    }
   ],
   "source": [
    "#I want a manual transmission, not an automatic...\n",
    "# Run this in Python once, it should take effect permanently (change to False to None to revert)\n",
    "from notebook.services.config import ConfigManager\n",
    "c = ConfigManager()\n",
    "c.update('notebook', {\"CodeCell\": {\"cm_config\": {\"autoCloseBrackets\": False}}})"
   ]
  },
  {
   "cell_type": "code",
   "execution_count": null,
   "metadata": {},
   "outputs": [],
   "source": []
  },
  {
   "cell_type": "markdown",
   "metadata": {},
   "source": [
    "all about birds suggests that most cals are betweem 1000 and 8000 Hz\n",
    "- filter out calls below 400 Hz to start, and see what the effect is.\n",
    "- in mel freq filter below 500 Hz\n",
    "achieve the filtering by setting all rows lower than a certain value to zero in the stft array"
   ]
  },
  {
   "cell_type": "code",
   "execution_count": 34,
   "metadata": {},
   "outputs": [
    {
     "data": {
      "text/plain": [
       "'/home/chris/Documents/Insight2020/birdsounder-model/../examples/cutclips/Pine Siskin_25_1.wav'"
      ]
     },
     "execution_count": 34,
     "metadata": {},
     "output_type": "execute_result"
    }
   ],
   "source": [
    "import os\n",
    "cwd = os.getcwd()\n",
    "path =  os.path.join( cwd, '../examples/cutclips' )\n",
    "files = [f for f in os.listdir( path )]\n",
    "\n",
    "n = 810\n",
    "file = files[n]\n",
    "filename = os.path.join( path, file )\n",
    "#filename = '/home/chris/Documents/Insight2020/examples/cutclips/Scarlet Tanager_2_0.wav' #temp ovveride for pres\n",
    "#filename = 'Scarlet Tanager_2_0.wav'\n",
    "filename"
   ]
  },
  {
   "cell_type": "code",
   "execution_count": 35,
   "metadata": {},
   "outputs": [
    {
     "data": {
      "text/plain": [
       "[(56426, 'Scarlet Tanager_2_0.wav')]"
      ]
     },
     "execution_count": 35,
     "metadata": {},
     "output_type": "execute_result"
    }
   ],
   "source": [
    "fileIwant = [(i,f) for i,f in enumerate(files) if f=='Scarlet Tanager_2_0.wav']\n",
    "fileIwant"
   ]
  },
  {
   "cell_type": "code",
   "execution_count": 1,
   "metadata": {},
   "outputs": [],
   "source": [
    "import torchaudio\n",
    "import numpy as np\n",
    "import scipy\n",
    "import matplotlib.pyplot as plt\n",
    "from scipy.signal import find_peaks, peak_prominences\n",
    "import librosa\n",
    "import librosa.display\n"
   ]
  },
  {
   "cell_type": "code",
   "execution_count": 2,
   "metadata": {},
   "outputs": [],
   "source": [
    "def Normalize(tensor):\n",
    "    # Subtract the mean, and scale to the interval [-1,1]\n",
    "    tensor_minusmean = tensor - tensor.mean()\n",
    "    return tensor_minusmean/tensor_minusmean.abs().max()"
   ]
  },
  {
   "cell_type": "code",
   "execution_count": 38,
   "metadata": {},
   "outputs": [
    {
     "data": {
      "text/plain": [
       "(torch.Size([1, 63945]), (63945,), numpy.ndarray, 44100)"
      ]
     },
     "execution_count": 38,
     "metadata": {},
     "output_type": "execute_result"
    }
   ],
   "source": [
    "#load the file, create a numpy array version so librosa can process it\n",
    "filepath = os.path.join( path, filename )\n",
    "wf, sr = torchaudio.load( filepath )\n",
    "#wf_rs = torchaudio.transforms.Resample( orig_freq=16000, new_freq=8000 )(wf)\n",
    "wf_np = np.asfortranarray( wf[0].numpy() )\n",
    "spectrogram = torchaudio.transforms.Spectrogram()( wf )\n",
    "yn = Normalize( wf )\n",
    "y = np.asfortranarray( yn[0].numpy() ) #wf[0].numpy() )\n",
    "\n",
    "#cpmpute the spectrograms of the data\n",
    "S, phase = librosa.magphase(librosa.stft(wf_np))\n",
    "Sn, phase = librosa.magphase(librosa.stft(y))\n",
    "\n",
    "yn.shape, y.shape, type( y ), sr"
   ]
  },
  {
   "cell_type": "code",
   "execution_count": 39,
   "metadata": {},
   "outputs": [
    {
     "data": {
      "text/plain": [
       "<matplotlib.legend.Legend at 0x7f28eda4cc90>"
      ]
     },
     "execution_count": 39,
     "metadata": {},
     "output_type": "execute_result"
    },
    {
     "data": {
      "image/png": "[encoded data removed]",
      "text/plain": [
       "<Figure size 576x432 with 1 Axes>"
      ]
     },
     "metadata": {
      "needs_background": "light"
     },
     "output_type": "display_data"
    }
   ],
   "source": [
    "#plot the original spectrum, and the normalized version\n",
    "f,ax = plt.subplots( figsize=(8,6) )\n",
    "ax.plot( y, alpha=1.0, label='normalized waveform' );\n",
    "ax.plot( wf_np, alpha=1.0, label='original waveform' );\n",
    "#ax.plot( np.asfortranarray( wf_rs[0].numpy() ), alpha=0.6, label='original wf' );\n",
    "\n",
    "#ax.plot( yr, alpha=0.6, label='recronstructed wf' );\n",
    "ax.set_xlabel('samples')\n",
    "ax.set_ylabel('amplitude')\n",
    "ax.legend()"
   ]
  },
  {
   "cell_type": "code",
   "execution_count": 3,
   "metadata": {},
   "outputs": [],
   "source": [
    "def FindPeaks(x, ax, height=0.6, output=True):\n",
    "    peaks, _ = find_peaks(x, height=height*max(x), distance=5, width=3 )\n",
    "    prominences = peak_prominences(x, peaks)[0]\n",
    "    contour_heights = x[peaks] - prominences\n",
    "    ax.plot(peaks, x[peaks], \"x\")\n",
    "    ax.vlines(x=peaks, ymin=contour_heights, ymax=x[peaks])\n",
    "    #end peak finding\n",
    "    #...just use max for now\n",
    "    print(peaks, x[peaks])\n",
    "    peak_order = sorted( zip( peaks, x[peaks] ), key=lambda l: l[1], reverse=True) \n",
    "    print(peak_order)#, x[ list(peak_order[0,:]) ])\n",
    "    \n",
    "    #plt.show()\n",
    "    return peak_order #peaks, x[peaks]"
   ]
  },
  {
   "cell_type": "code",
   "execution_count": 17,
   "metadata": {},
   "outputs": [],
   "source": [
    "def GetRMS(y):\n",
    "    '''takes numpy array of normalized original sample'''\n",
    "    rms = librosa.feature.rms(y=y)\n",
    "    return rms.min(), rms.max(), rms.mean(), rms.std()\n",
    "\n",
    "def GetFlatness( y ):\n",
    "    '''same for normalized and non-normalized sample'''\n",
    "    flatness = librosa.feature.spectral_flatness(y=y)\n",
    "    return flatness.min(), flatness.max(), flatness.mean(), flatness.std()\n",
    "\n",
    "def GetRolloff( y, sr ):\n",
    "    '''normalized or non-normalzied give same results'''\n",
    "    rolloff = librosa.feature.spectral_rolloff(y=y, sr=sr)\n",
    "    return rolloff.min(), rolloff.max(), rolloff.mean(), rolloff.std()\n",
    "\n",
    "def GetContrast( y, sr ):\n",
    "    '''takes normalized sample (maybe normalized???)\n",
    "    returns min, max, mean, std'''\n",
    "    contrasts = librosa.feature.spectral_contrast(y=y, sr=sr)\n",
    "    mins = [l.min() for l in contrasts]\n",
    "    maxs = [l.max() for l in contrasts]\n",
    "    means = [l.mean() for l in contrasts]\n",
    "    stds = [l.std() for l in contrasts]\n",
    "    #ranks = sorted( zip( range(7), contrasts.sum(1), mins, maxs, means, stds ), key=lambda l:l[1], reverse=True)\n",
    "    ls = sorted( zip( range(7), contrasts.sum(1) ), key=lambda l:l[1], reverse=True)\n",
    "    vals = list( zip( mins, maxs, means, stds ) )\n",
    "    ranks = [l[0] for l in ls]\n",
    "    return ranks, vals\n",
    "\n",
    "def GetCentroids( y, sr ):\n",
    "    cent = librosa.feature.spectral_centroid( y, sr )\n",
    "    return cent.min(), cent.max(), cent.mean(), cent.std()\n",
    "\n",
    "def GetBandwidth( y, sr ):\n",
    "    bw = librosa.feature.spectral_bandwidth( y, sr )\n",
    "    return bw.min(), bw.max(), bw.mean(), bw.std()"
   ]
  },
  {
   "cell_type": "code",
   "execution_count": 43,
   "metadata": {},
   "outputs": [
    {
     "name": "stdout",
     "output_type": "stream",
     "text": [
      "[ 25  46  69  86 110] [5915.60377331 6313.5699311  6040.92362123 5485.91485833 5773.31595454]\n",
      "[(46, 6313.569931098754), (69, 6040.923621227654), (25, 5915.6037733110725), (110, 5773.315954535363), (86, 5485.91485832996)]\n",
      "rms min 4656.086289497447, max 6313.460778693794, mean 5522.013030313298 std 338.2792677035653\n",
      "rms min 4656.254833935665, max 6313.569931098754, mean 5522.215553652042 std 338.2433175680264\n"
     ]
    },
    {
     "data": {
      "text/plain": [
       "[(46, 6313.569931098754),\n",
       " (69, 6040.923621227654),\n",
       " (25, 5915.6037733110725),\n",
       " (110, 5773.315954535363),\n",
       " (86, 5485.91485832996)]"
      ]
     },
     "execution_count": 43,
     "metadata": {},
     "output_type": "execute_result"
    },
    {
     "data": {
      "image/png": "[encoded data removed]",
      "text/plain": [
       "<Figure size 432x288 with 1 Axes>"
      ]
     },
     "metadata": {
      "needs_background": "light"
     },
     "output_type": "display_data"
    }
   ],
   "source": [
    "#look at the spectral centroids\n",
    "cent = librosa.feature.spectral_centroid( wf_np, sr )\n",
    "centN = librosa.feature.spectral_centroid( y, sr )\n",
    "\n",
    "f,ax = plt.subplots()\n",
    "ax.plot( cent[0], label='wf_np' )\n",
    "ax.plot( centN[0], label='y (normalized)' )\n",
    "\n",
    "pks = FindPeaks( centN[0], ax=ax )\n",
    "\n",
    "print( f'rms min {cent.min()}, max {cent.max()}, mean {cent.mean()} std {cent.std()}')\n",
    "print( f'rms min {centN.min()}, max {centN.max()}, mean {centN.mean()} std {centN.std()}')\n",
    "pks"
   ]
  },
  {
   "cell_type": "code",
   "execution_count": 44,
   "metadata": {},
   "outputs": [
    {
     "name": "stdout",
     "output_type": "stream",
     "text": [
      "[39 87] [5269.03398313 4116.78478804]\n",
      "[(39, 5269.033983130567), (87, 4116.7847880357685)]\n",
      "rms min 1440.0346157882514, max 5709.772703841713, mean 3859.1610990856816 std 1335.659242345233\n",
      "rms min 1439.86854280816, max 5709.77021794277, mean 3859.1362966641686 std 1335.6675625071882\n"
     ]
    },
    {
     "data": {
      "text/plain": [
       "((1, 125), [(39, 5269.033983130567), (87, 4116.7847880357685)])"
      ]
     },
     "execution_count": 44,
     "metadata": {},
     "output_type": "execute_result"
    },
    {
     "data": {
      "image/png": "[encoded data removed]",
      "text/plain": [
       "<Figure size 432x288 with 1 Axes>"
      ]
     },
     "metadata": {
      "needs_background": "light"
     },
     "output_type": "display_data"
    }
   ],
   "source": [
    "bw = librosa.feature.spectral_bandwidth( wf_np, sr )\n",
    "bwN = librosa.feature.spectral_bandwidth( y, sr )\n",
    "\n",
    "f,ax = plt.subplots()\n",
    "ax.plot( bw[0], label='wf_np' )\n",
    "ax.plot( bwN[0], label='y (normalized)' )\n",
    "ax.legend()\n",
    "\n",
    "pks = FindPeaks( bwN[0], ax=ax )\n",
    "\n",
    "print( f'rms min {bw.min()}, max {bw.max()}, mean {bw.mean()} std {bw.std()}')\n",
    "print( f'rms min {bwN.min()}, max {bwN.max()}, mean {bwN.mean()} std {bwN.std()}')\n",
    "bw.shape, pks"
   ]
  },
  {
   "cell_type": "code",
   "execution_count": 42,
   "metadata": {},
   "outputs": [
    {
     "name": "stdout",
     "output_type": "stream",
     "text": [
      "[35 47] [0.286916   0.33343154]\n",
      "[(47, 0.33343154), (35, 0.286916)]\n"
     ]
    },
    {
     "data": {
      "image/png": "[encoded data removed]",
      "text/plain": [
       "<Figure size 432x288 with 1 Axes>"
      ]
     },
     "metadata": {
      "needs_background": "light"
     },
     "output_type": "display_data"
    },
    {
     "name": "stdout",
     "output_type": "stream",
     "text": [
      "rms shape (1, 125)\n",
      "rms min 0.0014159370912238955, max 0.01608916185796261, mean 0.005706441588699818 std 0.0047381860204041\n",
      "rms min 0.029323499649763107, max 0.33343154191970825, mean 0.1182556003332138 std 0.09819614142179489\n"
     ]
    },
    {
     "data": {
      "text/plain": [
       "(0.0293235, 0.33343154, 0.1182556, 0.09819614)"
      ]
     },
     "execution_count": 42,
     "metadata": {},
     "output_type": "execute_result"
    }
   ],
   "source": [
    "\n",
    "\n",
    "rms = librosa.feature.rms(y=wf_np)\n",
    "rmsN = librosa.feature.rms(y=y)\n",
    "rmsS = librosa.feature.rms(S=S)\n",
    "rmsSn = librosa.feature.rms(S=Sn)\n",
    "\n",
    "f,ax = plt.subplots()\n",
    "ax.plot( rms[0], label='wf_np' )\n",
    "ax.plot( rmsN[0], label='y (normalized)' )\n",
    "ax.plot( rmsS[0], label='S (spectrogram)' )\n",
    "ax.plot( rmsSn[0],  label='S (spec_normalized)')\n",
    "ax.legend()\n",
    "\n",
    "FindPeaks( rmsN[0], ax=ax )\n",
    "#FindPeaks( rmsN[0], ax=ax )\n",
    "plt.show()\n",
    "\n",
    "print('rms shape', rms.shape )\n",
    "print( f'rms min {rms.min()}, max {rms.max()}, mean {rms.mean()} std {rms.std()}')\n",
    "print( f'rms min {rmsN.min()}, max {rmsN.max()}, mean {rmsN.mean()} std {rmsN.std()}')\n",
    "\n",
    "#np.average( rms ), np.average( rmsN ), np.average( rmsS ), np.average( rmsSn )\n",
    "GetRMS( y )"
   ]
  },
  {
   "cell_type": "code",
   "execution_count": 5,
   "metadata": {},
   "outputs": [
    {
     "ename": "NameError",
     "evalue": "name 'wf_np' is not defined",
     "output_type": "error",
     "traceback": [
      "\u001b[0;31m---------------------------------------------------------------------------\u001b[0m",
      "\u001b[0;31mNameError\u001b[0m                                 Traceback (most recent call last)",
      "\u001b[0;32m<ipython-input-5-2504d1ded3d5>\u001b[0m in \u001b[0;36m<module>\u001b[0;34m\u001b[0m\n\u001b[1;32m      4\u001b[0m     \u001b[0;32mreturn\u001b[0m \u001b[0mflatness\u001b[0m\u001b[0;34m.\u001b[0m\u001b[0mmin\u001b[0m\u001b[0;34m(\u001b[0m\u001b[0;34m)\u001b[0m\u001b[0;34m,\u001b[0m \u001b[0mflatness\u001b[0m\u001b[0;34m.\u001b[0m\u001b[0mmax\u001b[0m\u001b[0;34m(\u001b[0m\u001b[0;34m)\u001b[0m\u001b[0;34m,\u001b[0m \u001b[0mflatness\u001b[0m\u001b[0;34m.\u001b[0m\u001b[0mmean\u001b[0m\u001b[0;34m(\u001b[0m\u001b[0;34m)\u001b[0m\u001b[0;34m,\u001b[0m \u001b[0mflatness\u001b[0m\u001b[0;34m.\u001b[0m\u001b[0mstd\u001b[0m\u001b[0;34m(\u001b[0m\u001b[0;34m)\u001b[0m\u001b[0;34m\u001b[0m\u001b[0;34m\u001b[0m\u001b[0m\n\u001b[1;32m      5\u001b[0m \u001b[0;34m\u001b[0m\u001b[0m\n\u001b[0;32m----> 6\u001b[0;31m \u001b[0mflatness\u001b[0m \u001b[0;34m=\u001b[0m \u001b[0mlibrosa\u001b[0m\u001b[0;34m.\u001b[0m\u001b[0mfeature\u001b[0m\u001b[0;34m.\u001b[0m\u001b[0mspectral_flatness\u001b[0m\u001b[0;34m(\u001b[0m\u001b[0my\u001b[0m\u001b[0;34m=\u001b[0m\u001b[0mwf_np\u001b[0m\u001b[0;34m)\u001b[0m\u001b[0;34m\u001b[0m\u001b[0;34m\u001b[0m\u001b[0m\n\u001b[0m\u001b[1;32m      7\u001b[0m \u001b[0mflatnessN\u001b[0m \u001b[0;34m=\u001b[0m \u001b[0mlibrosa\u001b[0m\u001b[0;34m.\u001b[0m\u001b[0mfeature\u001b[0m\u001b[0;34m.\u001b[0m\u001b[0mspectral_flatness\u001b[0m\u001b[0;34m(\u001b[0m\u001b[0my\u001b[0m\u001b[0;34m=\u001b[0m\u001b[0my\u001b[0m\u001b[0;34m)\u001b[0m\u001b[0;34m\u001b[0m\u001b[0;34m\u001b[0m\u001b[0m\n\u001b[1;32m      8\u001b[0m \u001b[0mflatnessS\u001b[0m \u001b[0;34m=\u001b[0m \u001b[0mlibrosa\u001b[0m\u001b[0;34m.\u001b[0m\u001b[0mfeature\u001b[0m\u001b[0;34m.\u001b[0m\u001b[0mspectral_flatness\u001b[0m\u001b[0;34m(\u001b[0m\u001b[0mS\u001b[0m\u001b[0;34m=\u001b[0m\u001b[0mS\u001b[0m\u001b[0;34m)\u001b[0m\u001b[0;34m\u001b[0m\u001b[0;34m\u001b[0m\u001b[0m\n",
      "\u001b[0;31mNameError\u001b[0m: name 'wf_np' is not defined"
     ]
    }
   ],
   "source": [
    "\n",
    "\n",
    "flatness = librosa.feature.spectral_flatness(y=wf_np)\n",
    "flatnessN = librosa.feature.spectral_flatness(y=y)\n",
    "flatnessS = librosa.feature.spectral_flatness(S=S)\n",
    "flatnessSn = librosa.feature.spectral_flatness(S=Sn)\n",
    "\n",
    "f,ax = plt.subplots()\n",
    "ax.plot( flatness[0], label='wf_np' )\n",
    "ax.plot( flatnessN[0], label='y (normalized)' )\n",
    "ax.plot( flatnessS[0], label='S (spectrogram)' )\n",
    "ax.plot( flatnessSn[0],  label='S (spec_normalized)')\n",
    "ax.legend()\n",
    "plt.show()\n",
    "\n",
    "print( f'rms min {flatnessN.min()}, max {flatnessN.max()}, mean {flatnessN.mean()} std {flatnessN.std()}')\n",
    "\n",
    "#np.average( flatness ), np.average( flatnessN ), np.average( flatnessS ), np.average( flatnessSn )\n",
    "#same for norm and non-norm versions\n",
    "GetFlatness( y )"
   ]
  },
  {
   "cell_type": "code",
   "execution_count": 6,
   "metadata": {},
   "outputs": [
    {
     "ename": "NameError",
     "evalue": "name 'wf_np' is not defined",
     "output_type": "error",
     "traceback": [
      "\u001b[0;31m---------------------------------------------------------------------------\u001b[0m",
      "\u001b[0;31mNameError\u001b[0m                                 Traceback (most recent call last)",
      "\u001b[0;32m<ipython-input-6-f303da7c7f2c>\u001b[0m in \u001b[0;36m<module>\u001b[0;34m\u001b[0m\n\u001b[1;32m      4\u001b[0m     \u001b[0;32mreturn\u001b[0m \u001b[0mrolloff\u001b[0m\u001b[0;34m.\u001b[0m\u001b[0mmin\u001b[0m\u001b[0;34m(\u001b[0m\u001b[0;34m)\u001b[0m\u001b[0;34m,\u001b[0m \u001b[0mrolloff\u001b[0m\u001b[0;34m.\u001b[0m\u001b[0mmax\u001b[0m\u001b[0;34m(\u001b[0m\u001b[0;34m)\u001b[0m\u001b[0;34m,\u001b[0m \u001b[0mrolloff\u001b[0m\u001b[0;34m.\u001b[0m\u001b[0mmean\u001b[0m\u001b[0;34m(\u001b[0m\u001b[0;34m)\u001b[0m\u001b[0;34m,\u001b[0m \u001b[0mrolloff\u001b[0m\u001b[0;34m.\u001b[0m\u001b[0mstd\u001b[0m\u001b[0;34m(\u001b[0m\u001b[0;34m)\u001b[0m\u001b[0;34m\u001b[0m\u001b[0;34m\u001b[0m\u001b[0m\n\u001b[1;32m      5\u001b[0m \u001b[0;34m\u001b[0m\u001b[0m\n\u001b[0;32m----> 6\u001b[0;31m \u001b[0mrolloff\u001b[0m \u001b[0;34m=\u001b[0m \u001b[0mlibrosa\u001b[0m\u001b[0;34m.\u001b[0m\u001b[0mfeature\u001b[0m\u001b[0;34m.\u001b[0m\u001b[0mspectral_rolloff\u001b[0m\u001b[0;34m(\u001b[0m\u001b[0my\u001b[0m\u001b[0;34m=\u001b[0m\u001b[0mwf_np\u001b[0m\u001b[0;34m,\u001b[0m \u001b[0msr\u001b[0m\u001b[0;34m=\u001b[0m\u001b[0msr\u001b[0m\u001b[0;34m)\u001b[0m\u001b[0;34m\u001b[0m\u001b[0;34m\u001b[0m\u001b[0m\n\u001b[0m\u001b[1;32m      7\u001b[0m \u001b[0mrolloffN\u001b[0m \u001b[0;34m=\u001b[0m \u001b[0mlibrosa\u001b[0m\u001b[0;34m.\u001b[0m\u001b[0mfeature\u001b[0m\u001b[0;34m.\u001b[0m\u001b[0mspectral_rolloff\u001b[0m\u001b[0;34m(\u001b[0m\u001b[0my\u001b[0m\u001b[0;34m=\u001b[0m\u001b[0my\u001b[0m\u001b[0;34m,\u001b[0m \u001b[0msr\u001b[0m\u001b[0;34m=\u001b[0m\u001b[0msr\u001b[0m\u001b[0;34m)\u001b[0m\u001b[0;34m\u001b[0m\u001b[0;34m\u001b[0m\u001b[0m\n\u001b[1;32m      8\u001b[0m \u001b[0mrolloffS\u001b[0m \u001b[0;34m=\u001b[0m \u001b[0mlibrosa\u001b[0m\u001b[0;34m.\u001b[0m\u001b[0mfeature\u001b[0m\u001b[0;34m.\u001b[0m\u001b[0mspectral_rolloff\u001b[0m\u001b[0;34m(\u001b[0m\u001b[0mS\u001b[0m\u001b[0;34m=\u001b[0m\u001b[0mS\u001b[0m\u001b[0;34m,\u001b[0m \u001b[0msr\u001b[0m\u001b[0;34m=\u001b[0m\u001b[0msr\u001b[0m\u001b[0;34m)\u001b[0m\u001b[0;34m\u001b[0m\u001b[0;34m\u001b[0m\u001b[0m\n",
      "\u001b[0;31mNameError\u001b[0m: name 'wf_np' is not defined"
     ]
    }
   ],
   "source": [
    "\n",
    "\n",
    "rolloff = librosa.feature.spectral_rolloff(y=wf_np, sr=sr)\n",
    "rolloffN = librosa.feature.spectral_rolloff(y=y, sr=sr)\n",
    "rolloffS = librosa.feature.spectral_rolloff(S=S, sr=sr)\n",
    "rolloffSn = librosa.feature.spectral_rolloff(S=Sn, sr=sr)\n",
    "\n",
    "f,ax = plt.subplots()\n",
    "ax.plot( rolloff[0], label='wf_np' )\n",
    "ax.plot( rolloffN[0], label='y (normalized)' )\n",
    "ax.plot( rolloffS[0], label='S (spectrogram)' )\n",
    "ax.plot( rolloffSn[0],  label='S (spec_normalized)')\n",
    "ax.legend()\n",
    "plt.show()\n",
    "\n",
    "print( f'rms min {rolloff.min()}, max {rolloff.max()}, \\\n",
    "mean {rolloff.mean()} std {rolloff.std()}')\n",
    "\n",
    "\n",
    "#np.average( rolloff ), np.average( rolloffN ), np.average( rolloffS ), np.average( rolloffSn )\n",
    "GetRolloff( y, sr )"
   ]
  },
  {
   "cell_type": "code",
   "execution_count": 45,
   "metadata": {},
   "outputs": [
    {
     "data": {
      "image/png": "[encoded data removed]",
      "text/plain": [
       "<Figure size 432x288 with 1 Axes>"
      ]
     },
     "metadata": {
      "needs_background": "light"
     },
     "output_type": "display_data"
    },
    {
     "data": {
      "text/plain": [
       "([6, 5, 4, 3, 2, 0, 1],\n",
       " (20.155182541788157,\n",
       "  39.60249847957727,\n",
       "  30.870273823875415,\n",
       "  2.756140047560708),\n",
       " (12.400626788020615,\n",
       "  35.002319848799594,\n",
       "  21.124948641500495,\n",
       "  4.126124891002746))"
      ]
     },
     "execution_count": 45,
     "metadata": {},
     "output_type": "execute_result"
    }
   ],
   "source": [
    "\n",
    "\n",
    "spec_contrast = librosa.feature.spectral_contrast( wf_np, sr )\n",
    "spec_contrastN = librosa.feature.spectral_contrast( y, sr )\n",
    "spec_contrastS = librosa.feature.spectral_contrast( S=S, sr=sr )\n",
    "spec_contrastSn = librosa.feature.spectral_contrast( S=Sn, sr=sr )\n",
    "\n",
    "\n",
    "f,ax = plt.subplots()\n",
    "#ax.plot( spec_contrast[0], label='wf_np' )\n",
    "for i in range(7):\n",
    "    ax.plot( spec_contrast[i], label=f'y (normalized) {i}' )\n",
    "#ax.plot( spec_contrastS[0], label='S (spectrogram)' )\n",
    "#ax.plot( spec_contrastSn[0],  label='S (spec_normalized)')\n",
    "ax.legend()\n",
    "plt.show()\n",
    "'''\n",
    "for spec_contrast in spec_contrasts:\n",
    "    print( f'rms min {spec_contrast.min()}, max {spec_contrast.max()}, \\\n",
    "    mean {spec_contrast.mean()} std {spec_contrast.std()}')\n",
    "print( f'rms min {spec_contrastN.min()}, max {spec_contrastN.max()}, \\\n",
    "mean {spec_contrastN.mean()} std {spec_contrastN.std()}')\n",
    "'''\n",
    "#np.average( spec_contrast ), np.average( spec_contrastN ), np.average( spec_contrastS ), np.average( spec_contrastSn )\n",
    "#same for norm and non-norm versions\n",
    "ls, vals = GetContrast(wf_np, sr)#, spec_contrast.shape\n",
    "#np.array(ls[0][2]).mean(), np.array(ls[1][2]).mean(), np.array(ls[2][2]).mean()\n",
    "#ls[::1]\n",
    "ls, vals[6], vals[5]"
   ]
  },
  {
   "cell_type": "code",
   "execution_count": null,
   "metadata": {},
   "outputs": [],
   "source": [
    "ls = sorted( zip( range(7), spec_contrasts.sum(1), spec_contrasts ), key=lambda l:l[1], reverse=True)\n",
    "avgs = [np.average(l[2]) for l in ls]\n",
    "rank, avgs"
   ]
  },
  {
   "cell_type": "code",
   "execution_count": null,
   "metadata": {},
   "outputs": [],
   "source": [
    "cepstral = librosa.feature.mfcc(y, sr)\n",
    "\n",
    "for i in range(20):\n",
    "    plt.plot(cepstral[i], label=i)\n",
    "plt.legend()\n",
    "    \n",
    "plt.show()    \n",
    "librosa.display.specshow(cepstral, y_axis='mel', x_axis='frames');#,x_axis='time'\n",
    "plt.show()\n",
    "\n",
    "cepstral.shape, np.average(cepstral[0]), np.average(cepstral[1]), np.average(cepstral[2])"
   ]
  },
  {
   "cell_type": "code",
   "execution_count": null,
   "metadata": {},
   "outputs": [],
   "source": [
    "mfcc = torchaudio.transforms.MFCC( sample_rate=sr)(wf)\n",
    "\n",
    "\n",
    "mfcc_np = mfcc.detach().numpy()[0]\n",
    "librosa.display.specshow(mfcc_np, y_axis='mel', x_axis='frames');#,x_axis='time'\n",
    "plt.show()\n",
    "librosa.display.specshow(mfcc_np[:,:1], sr=sr, y_axis='mel', x_axis='frames');\n",
    "plt.show()\n",
    "mfcc.shape, type(mfcc), mfcc_np.shape, mfcc_np[:,:1]\n"
   ]
  },
  {
   "cell_type": "code",
   "execution_count": null,
   "metadata": {},
   "outputs": [],
   "source": []
  },
  {
   "cell_type": "code",
   "execution_count": null,
   "metadata": {},
   "outputs": [],
   "source": [
    "from matplotlib.colors import LogNorm\n",
    "import pandas as pd\n",
    "\n",
    "mel_specgram = torchaudio.transforms.MelSpectrogram(sr)(yn)#(wf)\n",
    "#plt.imshow( mel_specgram.detach().numpy()[0], norm=LogNorm() )\n",
    "\n",
    "mel_np = mel_specgram.detach().numpy()[0]\n",
    "mel_db = librosa.core.amplitude_to_db( mel_np )\n",
    "librosa.display.specshow(mel_np, y_axis='mel', x_axis='frames', )#,x_axis='time'\n",
    "plt.colorbar()\n",
    "plt.show()\n",
    "\n",
    "plt.figure()#figsize=(10,8))\n",
    "librosa.display.specshow(mel_db, y_axis='mel', x_axis='frames', )#,x_axis='time'\n",
    "plt.title('Mel-frequencty Spectrogram')\n",
    "plt.colorbar(format='%+2.0f dB')\n",
    "amp, freq = mel_np.sum(0), mel_np.sum(1)\n",
    "plt.show()\n",
    "plt.figure()\n",
    "#ax = plt.subplot(2,1,1)\n",
    "plt.plot(amp, '.-', label='sum of amplitudes')\n",
    "plt.figure()\n",
    "#ax = plt.subplot(2,1,2)\n",
    "f,ax = plt.subplots()\n",
    "ax.set_title('sum along frequency axis')\n",
    "ax.plot(freq, '.-', label='sum of frequencies')\n",
    "ax.set_xlabel('frequency (Hz)')\n",
    "ax.set_ylabel('occurrences')\n",
    "plt.legend()\n",
    "plt.show()\n",
    "#hdata = list(zip( range(len(amp)), amp ))\n",
    "\n",
    "plt.bar( range(len(amp)), amp )\n",
    "plt.show()\n",
    "plt.bar( range(len(freq)), freq )\n",
    "mel_specgram.shape"
   ]
  },
  {
   "cell_type": "code",
   "execution_count": null,
   "metadata": {},
   "outputs": [],
   "source": [
    "spec_np = spectrogram.detach().numpy()[0]\n",
    "librosa.display.specshow(spec_np, y_axis='log', x_axis='frames')#,x_axis='time'\n",
    "plt.show()\n",
    "spec_np"
   ]
  },
  {
   "cell_type": "code",
   "execution_count": null,
   "metadata": {},
   "outputs": [],
   "source": []
  },
  {
   "cell_type": "markdown",
   "metadata": {},
   "source": [
    "background filtering using mel-spectrogram"
   ]
  },
  {
   "cell_type": "code",
   "execution_count": null,
   "metadata": {},
   "outputs": [],
   "source": []
  },
  {
   "cell_type": "code",
   "execution_count": null,
   "metadata": {},
   "outputs": [],
   "source": [
    "p0 = librosa.feature.poly_features(S=S, sr=sr, order=0)\n",
    "p1 = librosa.feature.poly_features(S=S, sr=sr, order=1)\n",
    "p2 = librosa.feature.poly_features(S=S, sr=sr, order=2)\n",
    "\n",
    "p0n = librosa.feature.poly_features(S=Sn, sr=sr, order=0)\n",
    "p1n = librosa.feature.poly_features(S=Sn, sr=sr, order=1)\n",
    "p2n = librosa.feature.poly_features(S=Sn, sr=sr, order=2)\n",
    "\n",
    "f,ax = plt.subplots()\n",
    "plt.plot( p0[0], label='p0' )\n",
    "plt.plot( p1[1], label='p1'  )\n",
    "plt.plot( p2[2], label='p2'  )\n",
    "plt.plot( p0n[0], label='p0n' )\n",
    "plt.plot( p1n[1], label='p1n'  )\n",
    "plt.plot( p2n[2], label='p2n'  )\n",
    "ax.legend()\n",
    "\n",
    "x = p0[0]\n",
    "peaks, _ = find_peaks(x, height=0.4*max(x), distance=10) #, prominence=5\n",
    "print('peak list', peaks)\n",
    "prominences = peak_prominences(x, peaks)[0]\n",
    "contour_heights = x[peaks] - prominences\n",
    "plt.plot( peaks, x[peaks], \"x\")\n",
    "plt.vlines(x=peaks, ymin=contour_heights, ymax=x[peaks])\n",
    "\n",
    "FindPeaks(x=p0[0], ax=ax)"
   ]
  },
  {
   "cell_type": "code",
   "execution_count": 5,
   "metadata": {},
   "outputs": [
    {
     "ename": "NameError",
     "evalue": "name 'y' is not defined",
     "output_type": "error",
     "traceback": [
      "\u001b[0;31m---------------------------------------------------------------------------\u001b[0m",
      "\u001b[0;31mNameError\u001b[0m                                 Traceback (most recent call last)",
      "\u001b[0;32m<ipython-input-5-681ef61f2949>\u001b[0m in \u001b[0;36m<module>\u001b[0;34m\u001b[0m\n\u001b[1;32m     30\u001b[0m     \u001b[0;32mreturn\u001b[0m \u001b[0mM\u001b[0m\u001b[0;34m\u001b[0m\u001b[0;34m\u001b[0m\u001b[0m\n\u001b[1;32m     31\u001b[0m \u001b[0;34m\u001b[0m\u001b[0m\n\u001b[0;32m---> 32\u001b[0;31m \u001b[0mM\u001b[0m \u001b[0;34m=\u001b[0m \u001b[0mMelSpectrogramFiltering\u001b[0m\u001b[0;34m(\u001b[0m\u001b[0my\u001b[0m\u001b[0;34m,\u001b[0m \u001b[0msr\u001b[0m\u001b[0;34m)\u001b[0m\u001b[0;34m\u001b[0m\u001b[0;34m\u001b[0m\u001b[0m\n\u001b[0m",
      "\u001b[0;31mNameError\u001b[0m: name 'y' is not defined"
     ]
    }
   ],
   "source": [
    "# We recommend scaling y to the range [-2**31, 2**31[ before applying\n",
    "# PCEN's default parameters. Furthermore, we use power=1 to get a\n",
    "# magnitude spectrum instead of a power spectrum.\n",
    "\n",
    "#y = wf_np\n",
    "def MelSpectrogramFiltering(y, sr):\n",
    "    M = librosa.feature.melspectrogram(y, sr=sr, power=1)\n",
    "    print('M shape', M.shape)\n",
    "    log_M = librosa.amplitude_to_db(M, ref=np.max)\n",
    "    pcen_M = librosa.pcen(M * (2**31))\n",
    "    plt.figure( figsize=(14,10))\n",
    "    plt.subplot(2,1,1)\n",
    "    librosa.display.specshow(log_M[:, 20:], x_axis='time', y_axis='mel')\n",
    "    plt.title('log amplitude (dB)')\n",
    "    plt.colorbar()\n",
    "    plt.subplot(2,1,2)\n",
    "    librosa.display.specshow(pcen_M[:, 20:], x_axis='time', y_axis='mel')\n",
    "    plt.title('Per-channel energy normalization')\n",
    "    plt.colorbar()\n",
    "    plt.tight_layout()\n",
    "    plt.show()\n",
    "    #plt.plot( pcen_M[:, 20:].sum(1) )\n",
    "    plt.plot( M[:,:].sum(1), label='original_M' )\n",
    "    \n",
    "    plt.plot( pcen_M[:,:].sum(1), label='pcen_M' )\n",
    "    pcen_M[:, 20:] = 0\n",
    "    plt.plot( pcen_M[:,:].sum(1), label='pcen_M first 20 cut' )\n",
    "    plt.legend()\n",
    "    M.shape\n",
    "    return M\n",
    "\n",
    "M = MelSpectrogramFiltering(y, sr)"
   ]
  },
  {
   "cell_type": "code",
   "execution_count": null,
   "metadata": {},
   "outputs": [],
   "source": [
    "def Reconstruct(M, sr):\n",
    "    #reconstruct the stft from the mel-spectrogram\n",
    "    Sr = librosa.feature.inverse.mel_to_stft(M, sr)\n",
    "    #reconstruct the original signal\n",
    "    yr = librosa.griffinlim(Sr) #griffin transformation\n",
    "    #yr = librosa.istft(Sr, hop_length=512)\n",
    "    plt.figure()\n",
    "    plt.subplot(3,1,1)\n",
    "    librosa.display.specshow(Sr, x_axis='time', y_axis='log')\n",
    "    plt.title('Reconstructed stft (dB)')\n",
    "    plt.colorbar()\n",
    "    #librosa.display.specshow(log_M, x_axis='time', y_axis='log')\n",
    "    plt.subplot(3,1,2)\n",
    "    #plt.plot( yr )\n",
    "    plt.plot( Sr.sum(1) )\n",
    "    plt.title('reconstructed audio')\n",
    "    plt.colorbar()\n",
    "    \n",
    "    yr.shape, type( yr )\n",
    "    plt.subplot(3,1,3)\n",
    "    plt.plot(yr)\n",
    "    plt.show()\n",
    "    return yr\n",
    "    \n",
    "yr = Reconstruct(M, sr)"
   ]
  },
  {
   "cell_type": "code",
   "execution_count": null,
   "metadata": {},
   "outputs": [],
   "source": [
    "def MelFilterCompare( M, pcen_M ):\n",
    "    pcen_max = librosa.pcen(M * (2**31), max_size=3)\n",
    "    plt.figure()\n",
    "    plt.subplot(2,1,1)\n",
    "    librosa.display.specshow(pcen_M, x_axis='time', y_axis='mel')\n",
    "    plt.title('Per-channel energy normalization (no max-filter)')\n",
    "    plt.colorbar()\n",
    "    plt.subplot(2,1,2)\n",
    "    librosa.display.specshow(pcen_max, x_axis='time', y_axis='mel')\n",
    "    plt.title('Per-channel energy normalization (max_size=3)')\n",
    "    plt.colorbar()\n",
    "    plt.tight_layout()\n",
    "    plt.show()"
   ]
  },
  {
   "cell_type": "markdown",
   "metadata": {},
   "source": [
    "define a low frequency filter (high-pass)\n",
    "- can also be used as a band-pass filter if a lowerfreq is also supplied as an argument"
   ]
  },
  {
   "cell_type": "code",
   "execution_count": 6,
   "metadata": {},
   "outputs": [],
   "source": [
    "\n",
    "def ApplyFilter( Din, sr, upperfreq = 1020, lowerfreq=None ):\n",
    "    '''high pass filter\n",
    "    ci = 250 #~5000, ci = 125 #~2691, ci = 50 #~1000, ci = 40'''\n",
    "    frequency_conversion = librosa.core.fft_frequencies(sr=sr)\n",
    "    upper_index = np.abs(frequency_conversion - upperfreq).argmin()\n",
    "    #print(f'upper frequency index, {upper_index} closest freq {frequency_conversion[upper_index]}')\n",
    "    if lowerfreq is not None:\n",
    "        lower_index = np.abs(frequency_conversion - lowerfreq).argmin()\n",
    "        #print(f'lower frequency index, {lower_index} closest freq {frequency_conversion[lower_index]}')\n",
    "    else:\n",
    "        lower_index = 0\n",
    "    Din[lower_index:upper_index,:] = np.zeros( (upper_index-lower_index, Din.shape[1]) )\n",
    "    "
   ]
  },
  {
   "cell_type": "code",
   "execution_count": null,
   "metadata": {},
   "outputs": [],
   "source": [
    "import os\n",
    "os.getcwd()\n",
    "\n",
    "#find the peak, cut two seconds and store in a new array temporarily...\n",
    "#or if longer recording,take all of the peak samples, or the biggest 2, or 3, and get the most likely for all\n",
    "#draw colored boxes around sample sections in the app interface"
   ]
  },
  {
   "cell_type": "code",
   "execution_count": 7,
   "metadata": {
    "scrolled": false
   },
   "outputs": [
    {
     "ename": "NameError",
     "evalue": "name 'wf_np' is not defined",
     "output_type": "error",
     "traceback": [
      "\u001b[0;31m---------------------------------------------------------------------------\u001b[0m",
      "\u001b[0;31mNameError\u001b[0m                                 Traceback (most recent call last)",
      "\u001b[0;32m<ipython-input-7-07bc6f8e12c6>\u001b[0m in \u001b[0;36m<module>\u001b[0;34m\u001b[0m\n\u001b[1;32m     79\u001b[0m     \u001b[0;32mreturn\u001b[0m \u001b[0mres\u001b[0m\u001b[0;34m\u001b[0m\u001b[0;34m\u001b[0m\u001b[0m\n\u001b[1;32m     80\u001b[0m \u001b[0;34m\u001b[0m\u001b[0m\n\u001b[0;32m---> 81\u001b[0;31m \u001b[0mD\u001b[0m \u001b[0;34m=\u001b[0m \u001b[0mnp\u001b[0m\u001b[0;34m.\u001b[0m\u001b[0mabs\u001b[0m\u001b[0;34m(\u001b[0m\u001b[0mlibrosa\u001b[0m\u001b[0;34m.\u001b[0m\u001b[0mstft\u001b[0m\u001b[0;34m(\u001b[0m\u001b[0mwf_np\u001b[0m\u001b[0;34m)\u001b[0m\u001b[0;34m)\u001b[0m\u001b[0;34m\u001b[0m\u001b[0;34m\u001b[0m\u001b[0m\n\u001b[0m\u001b[1;32m     82\u001b[0m \u001b[0mApplyFilter\u001b[0m\u001b[0;34m(\u001b[0m \u001b[0mD\u001b[0m\u001b[0;34m,\u001b[0m \u001b[0msr\u001b[0m\u001b[0;34m=\u001b[0m\u001b[0msr\u001b[0m\u001b[0;34m,\u001b[0m \u001b[0mupperfreq\u001b[0m\u001b[0;34m=\u001b[0m\u001b[0;36m1200\u001b[0m\u001b[0;34m,\u001b[0m \u001b[0mlowerfreq\u001b[0m\u001b[0;34m=\u001b[0m\u001b[0;36m500\u001b[0m\u001b[0;34m)\u001b[0m\u001b[0;34m\u001b[0m\u001b[0;34m\u001b[0m\u001b[0m\n\u001b[1;32m     83\u001b[0m \u001b[0;31m#GetPromFreqIndex(wf_np, sr, output=True)\u001b[0m\u001b[0;34m\u001b[0m\u001b[0;34m\u001b[0m\u001b[0;34m\u001b[0m\u001b[0m\n",
      "\u001b[0;31mNameError\u001b[0m: name 'wf_np' is not defined"
     ]
    }
   ],
   "source": [
    "    \n",
    "#function to get frequency bin with most entries (i.e. the Prominent Frequency)\n",
    "def GetPromFreqIndex(y, sr, filt_Hz, output=False):\n",
    "    \n",
    "    #hop_length = 512\n",
    "    D = np.abs(librosa.stft(y))\n",
    "    #print('shape', D.shape)\n",
    "    nc = 20\n",
    "    D[:,:nc], D[:,-nc:] = 0, 0\n",
    "    ####following lines are for testing\n",
    "    \n",
    "    if filt_Hz is not None:\n",
    "        ApplyFilter(D, sr, filt_Hz)\n",
    "    \n",
    "    ####end testing lines, remove once completed, make a more succinct function\n",
    "    freq_sum =  D.sum(1)\n",
    "    \n",
    "    #get the most prominent frequency index\n",
    "    prom_freq = freq_sum.tolist().index(max(freq_sum))\n",
    "    \n",
    "    if output:\n",
    "        print('filter frequency', filt_Hz)\n",
    "        print('sr', sr)\n",
    "        #times = librosa.times_like(D)\n",
    "        plt.figure( figsize=(8,6))\n",
    "        ax1 = plt.subplot(2, 1, 1)\n",
    "        dbs = librosa.amplitude_to_db(D, ref=np.max)\n",
    "        librosa.display.specshow(dbs, sr=sr, y_axis='log', x_axis='time')\n",
    "        plt.title('Power spectrogram')\n",
    "        #ax1.set_ylim()\n",
    "        ax2 = plt.subplot(2, 1, 2)\n",
    "\n",
    "        frequencies = librosa.core.fft_frequencies(sr=sr)\n",
    "        plt.plot( frequencies , freq_sum )\n",
    "    \n",
    "    \n",
    "        #plt.xscale('log') #use yaxis since we are summing the rows (frequencies)\n",
    "        plt.yscale('log')\n",
    "    \n",
    "    \n",
    "        print(f'{max(freq_sum)} occurances, of index {prom_freq}' )\n",
    "        #plot the prominences from the scipy example\n",
    "        x = freq_sum\n",
    "        \n",
    "        try:\n",
    "            #print('xshape', x.shape)\n",
    "            peaks, _ = find_peaks(x, height=0.35*max(x), prominence=5, distance=20)\n",
    "            #print('peak list', peaks)\n",
    "            prominences = peak_prominences(x, peaks)[0]\n",
    "            contour_heights = x[peaks] - prominences\n",
    "            plt.plot(frequencies[peaks], x[peaks], \"x\")\n",
    "            plt.vlines(x=frequencies[peaks], ymin=contour_heights, ymax=x[peaks])\n",
    "        except Exception as e:\n",
    "            print(e)\n",
    "        \n",
    "        plt.savefig('bad_plot.png')\n",
    "        plt.show()\n",
    "        #end peak finding\n",
    "        #...just use max for now\n",
    "    \n",
    "        if len(peaks)>=2:\n",
    "            peaks = peaks[:2]\n",
    "        #if prom_freq in peaks:\n",
    "            #peaks = list(peaks)\n",
    "            #print('peaks', peaks )\n",
    "        #    peaks.remove( prom_freq )\n",
    "            #print('removing largest peak from secon peaks list...')\n",
    "\n",
    "    return prom_freq#, peaks[0]    \n",
    "    \n",
    "def GetFreqRange( indexes, sample_rate ):\n",
    "    #index = GetPromFreqIndex(y, sample_rate, FILTER=librosa.iirt)\n",
    "    if type(indexes) == int:\n",
    "        index = indexes\n",
    "        return librosa.core.fft_frequencies(sr=sample_rate)[index:index+2] \n",
    "    \n",
    "    res = []\n",
    "    for index in indexes:\n",
    "        res.append( librosa.core.fft_frequencies(sr=sample_rate)[index:index+2] )\n",
    "    return res\n",
    "\n",
    "D = np.abs(librosa.stft(wf_np))\n",
    "ApplyFilter( D, sr=sr, upperfreq=1200, lowerfreq=500)\n",
    "#GetPromFreqIndex(wf_np, sr, output=True)\n",
    "#GetPromFreqIndex(wf_np, sr, filt_Hz=400, output=True)\n",
    "GetPromFreqIndex(wf_np, sr, filt_Hz=600, output=True)\n",
    "#pfi = GetPromFreqIndex(wf_np, sr, filt_Hz=2200, output=True)\n",
    "GetPromFreqIndex(y, sr, filt_Hz=600, output=True)\n",
    "#GetFreqRange( pfi, sr )\n",
    "\n"
   ]
  },
  {
   "cell_type": "code",
   "execution_count": 8,
   "metadata": {
    "scrolled": false
   },
   "outputs": [],
   "source": [
    "   \n",
    "def GetPromMelFreqIndex(y, sr, filt_Hz=600, output=False):\n",
    "    \n",
    "    #hop_length = 512\n",
    "    D = np.abs(librosa.feature.melspectrogram(y, sr=sr))\n",
    "    ApplyFilter(D, sr, upperfreq=filt_Hz )\n",
    "    times = librosa.times_like(D)\n",
    "    freq_sum =  D.sum(1)\n",
    "    if output:\n",
    "        print('sr', sr)\n",
    "        plt.figure( figsize=(8,6) )\n",
    "        ax1 = plt.subplot(2, 1, 1)\n",
    "        dbs = librosa.amplitude_to_db(D, ref=np.max)\n",
    "        librosa.display.specshow(dbs, sr=sr, y_axis='mel', x_axis='time')\n",
    "        plt.title('Mel power spectrogram')\n",
    "        #ax1.set_ylim()\n",
    "        ax2 = plt.subplot(2, 1, 2)\n",
    "        \n",
    "        plt.plot( freq_sum ) #no x-axis conversion to frequency\n",
    "        plt.yscale('log')\n",
    "        #plot the prominences from the scipy example\n",
    "        x = freq_sum\n",
    "        peaks, _ = find_peaks(x, height=0.25*max(x), prominence=5, distance=5)\n",
    "        prominences = peak_prominences(x, peaks)[0]\n",
    "        contour_heights = x[peaks] - prominences\n",
    "        plt.plot(peaks, x[peaks], \"x\")\n",
    "        plt.vlines(x=peaks, ymin=contour_heights, ymax=x[peaks])\n",
    "        #end peak finding\n",
    "        #...just use max for now\n",
    "        \n",
    "        plt.show()\n",
    "    prom_freq = freq_sum.tolist().index(max(freq_sum))\n",
    "    #print(f'{max(freq_sum)} occurances, of index {prom_freq}' )\n",
    "    \n",
    "    return prom_freq\n",
    "\n",
    "def ConstatQPower(y, sr, ymin='C3', filt_Hz=300, output=False):\n",
    "\n",
    "    #hop_length = 512\n",
    "    #D = librosa.cqt(y)\n",
    "    D = np.abs(librosa.cqt(y, sr, fmin=librosa.note_to_hz(ymin) ) )\n",
    "    ApplyFilter(D, sr, upperfreq=filt_Hz )\n",
    "    times = librosa.times_like(D)\n",
    "    freq_sum = D.sum(1)\n",
    "    if output:\n",
    "        print('sr', sr)\n",
    "        plt.figure( figsize=(8,6) )\n",
    "        ax1 = plt.subplot(2, 1, 1)\n",
    "        dbs = librosa.amplitude_to_db(D, ref=np.max)\n",
    "        librosa.display.specshow(dbs, sr=sr, y_axis='cqt_note', x_axis='time')\n",
    "\n",
    "        plt.colorbar(format='%+2.0f dB')\n",
    "        plt.title('Constant Q SPower spectrum')\n",
    "        #ax1.set_ylim()\n",
    "        ax2 = plt.subplot(2, 1, 2)\n",
    "        x = freq_sum\n",
    "        peaks, _ = find_peaks(x, height=0.25*max(x))#\n",
    "        , prominence=1, distance=2)\n",
    "        print('Q peaks', peaks)\n",
    "        prominences = peak_prominences(x, peaks)[0]\n",
    "        contour_heights = x[peaks] - prominences\n",
    "        plt.plot(peaks, x[peaks], \"x\")\n",
    "        plt.vlines(x=peaks, ymin=contour_heights, ymax=x[peaks])\n",
    "        plt.plot( freq_sum )\n",
    "        plt.yscale('log')\n",
    "        plt.show()\n",
    "        ##try inverse Q power transform\n",
    "        \n",
    "    prom_freq = freq_sum.tolist().index(max(freq_sum))\n",
    "    #print(f'{max(freq_sum)} occurances, of index {prom_freq}' )\n",
    "    return prom_freq\n"
   ]
  },
  {
   "cell_type": "code",
   "execution_count": null,
   "metadata": {},
   "outputs": [],
   "source": [
    "print('power spectrogram')\n",
    "###prom_freq_index, second_peak = GetPromFreqIndex(y=wf_np, sr=sr) #add on next pass\n",
    "prom_freq_index = GetPromFreqIndex(y=wf_np, sr=sr, filt_Hz=600, output=True)\n",
    "freq_range = GetFreqRange( indexes=prom_freq_index, sample_rate=sr) \n",
    "###freq_range2 = GetFreqRange( index=second_peak, sample_rate=sr) \n",
    "##print('index', prom_freq_index,'peaks', second_peak)\n",
    "print('most prominent freq-rage', freq_range) \n",
    "##print('most prominent freq-rage', freq_range2)\n",
    "    \n",
    "print('\\nconstant q-value spectrogram')\n",
    "prom_freq_index = ConstatQPower(y=wf_np, sr=sr, output=True)\n",
    "\n",
    "print('\\nmel frequency spectrogram')\n",
    "#prom_freq_index = GetPromFreqIndex(y=wf_np, sr=sr, FILTER=librosa.feature.melspectrogram, yaxis='linear')\n",
    "prom_freq_index = GetPromMelFreqIndex(y=wf_np, sr=sr, output=True)\n",
    "mel_freq = librosa.core.mel_frequencies()[prom_freq_index:prom_freq_index+2]\n",
    "print('mel freq is', mel_freq)"
   ]
  },
  {
   "cell_type": "code",
   "execution_count": null,
   "metadata": {},
   "outputs": [],
   "source": [
    "#look at the phase anglelll\n",
    "A = np.angle( librosa.stft(wf_np))\n",
    "plt.imshow( A )\n",
    "plt.show();\n",
    "A.shape, D.shape\n",
    "#plt.plot(A.sum(0) )\n",
    "#plt.show()\n",
    "#plt.plot( A.sum(1), D.sum(1), 'x' )"
   ]
  },
  {
   "cell_type": "markdown",
   "metadata": {},
   "source": [
    "The following two cells detemine the 'loudest' moment of the audio.  \n",
    "Then the fourier transform is computed for the 'hop_length'=2048 before and after that moment\n",
    "The peak frequency in those single hop fourier transforms are useable features\n",
    "...turn into a fucntion eventually...just the `D.sum(0)` and `max` of `amp_sum`"
   ]
  },
  {
   "cell_type": "code",
   "execution_count": null,
   "metadata": {},
   "outputs": [],
   "source": [
    "#single 'loudest' moment (what is the fft there? and mel...)\n",
    "D = np.abs(librosa.stft(wf_np))\n",
    "\n",
    "amp_sum =  D.sum(0)\n",
    "plt.plot( amp_sum )\n",
    "prom_amp = amp_sum.tolist().index(max(amp_sum))\n",
    "print(prom_amp)\n",
    "times = librosa.times_like(D)\n",
    "samples = librosa.samples_like(D)\n",
    "times[ prom_amp ], samples[prom_amp], times[-1], samples[-1]"
   ]
  },
  {
   "cell_type": "code",
   "execution_count": null,
   "metadata": {},
   "outputs": [],
   "source": [
    "#look at the single spectrum around this sample number\n",
    "n_fft = 2048\n",
    "#hop_length = n_fft+1\n",
    "f, ax = plt.subplots()\n",
    "ft = np.abs(librosa.stft(wf_np[samples[prom_amp]:samples[prom_amp]+n_fft], n_fft=n_fft,\n",
    "                        hop_length=n_fft+1))\n",
    "ax.plot( librosa.core.fft_frequencies(sr=sr), ft );\n",
    "prom_freq =  ft.tolist().index(max(ft))\n",
    "\n",
    "slice_after = GetFreqRange( prom_freq, sample_rate=sr )\n",
    "\n",
    "#look at the single spectrum around this sample number\n",
    "n_fft = 2048\n",
    "#hop_length = n_fft+1\n",
    "ft = np.abs(librosa.stft(wf_np[samples[prom_amp]-+n_fft:samples[prom_amp]], n_fft=n_fft,\n",
    "                        hop_length=n_fft+1))\n",
    "\n",
    "#ax.plot(ft);\n",
    "#ax.set_yscale('log')\n",
    "#ax.set_xscale('log')\n",
    "ax.set_xlabel('Hz')\n",
    "#ax.set_ylabel()\n",
    "prom_freq = ft.tolist().index(max(ft))\n",
    "slice_before = GetFreqRange( prom_freq, sample_rate=sr )\n",
    "\n",
    "slice_before[0], slice_after[0]"
   ]
  },
  {
   "cell_type": "code",
   "execution_count": 9,
   "metadata": {},
   "outputs": [],
   "source": [
    "def GetSingleSegmentFreq( wf_np, sr, prom_amp, n_slices, filt_Hz, samples, output=False ):\n",
    "    n_fft = 2048\n",
    "    #get freq i slices before peak\n",
    "    #wf, sr = torchaudio.load( filepath )\n",
    "    if output:\n",
    "        ft = np.abs(librosa.stft(wf_np[samples[prom_amp]:samples[prom_amp]+n_fft], n_fft=n_fft,\n",
    "                                hop_length=n_fft+1))\n",
    "\n",
    "        #ax.plot( librosa.core.fft_frequencies(sr=sr), ft );\n",
    "        prom_freq = ft.tolist().index(max(ft))\n",
    "        slice_after = GetFreqRange( prom_freq, sample_rate=sr )\n",
    "        #get freq after peak (i slaces before)\n",
    "        #f,ax = plt.subplots()\n",
    "    \n",
    "        f = plt.figure()\n",
    "        ax = plt.subplot(1, 1, 1)\n",
    "        ax.plot( librosa.core.fft_frequencies(sr=sr), ft );\n",
    "        ft = np.abs(librosa.stft(wf_np[samples[prom_amp]-n_fft:samples[prom_amp]], n_fft=n_fft,\n",
    "                        hop_length=n_fft+1))\n",
    "\n",
    "        prom_freq = ft.tolist().index(max(ft))\n",
    "        slice_before = GetFreqRange( prom_freq, sample_rate=sr )\n",
    "\n",
    "        #ax = plt.subplot(2, 1, 2)\n",
    "        ax.plot( librosa.core.fft_frequencies(sr=sr), ft );\n",
    "        #generalize\n",
    "\n",
    "        plt.figure( figsize=(8,12) )\n",
    "    gen_slices = []\n",
    "    oset = 0\n",
    "    for i in range(-n_slices-oset, n_slices-oset):\n",
    "        si, ei = samples[prom_amp]+i*n_fft, samples[prom_amp]+(i+1)*n_fft #start index, end index\n",
    "        #print(f'indecies used: si {si}, ei {ei}')\n",
    "        #ft = np.abs( torchaudio.transforms.Spectrogram( n_fft=n_fft, hop_length=n_fft+1)(wf[si: ei]) )\n",
    "                                 # hop_length=n_fft+1, pad_mode='constant') )\n",
    "                                \n",
    "        ft = np.abs( librosa.stft(wf_np[si: ei], n_fft=n_fft, hop_length=n_fft+1) )\n",
    "                                 # hop_length=n_fft+1, pad_mode='constant') )\n",
    "                                \n",
    "        #print( 'shape', ft.shape )\n",
    "        ApplyFilter( ft, sr, upperfreq=filt_Hz, lowerfreq=None )\n",
    "        \n",
    "        prom_freq = ft.tolist().index(max(ft))\n",
    "        #print(f'prom freq index {prom_freq}')\n",
    "        gen_freq = GetFreqRange( prom_freq, sample_rate=sr )\n",
    "        gen_slices.append(gen_freq)\n",
    "        if output:\n",
    "            ax = plt.subplot(n_slices*2, 1, i+n_slices+1+oset)\n",
    "            ax.plot( librosa.core.fft_frequencies(sr=sr), ft ) #plot 1D spectra of freqency vs occurance\n",
    "            #librosa.display.specshow(ft, sr=sr, y_axis='log', x_axis='time')\n",
    "            ax.set_xlabel('Hz')\n",
    "            plt.suptitle('fourier spectrum around peak volume')#, y=0.94)\n",
    "            plt.tight_layout()\n",
    "    return gen_slices\n",
    "    #return slice_before, slice_after, gen_slices #for testing consistency\n",
    "\n",
    "def GetSlicesAroundPeakVolume( wf_np, sr, n_slices, filt_Hz=1020, output=False ):\n",
    "    '''get the prominent frequencies of single stft slices\n",
    "    choose the number before and after'''\n",
    "    #take the stft of entire spectrum\n",
    "    \n",
    "    D = np.abs(librosa.stft(wf_np))\n",
    "    samples = librosa.samples_like(D)\n",
    "    ApplyFilter( D, sr, upperfreq = filt_Hz )\n",
    "    amp_sum =  D.sum(0) #sum along the \"time\" axis, to get the peaks in volume\n",
    "    if output:\n",
    "        plt.figure( figsize=(8,6) )\n",
    "        ax = plt.subplot(2, 1, 1)\n",
    "        #librosa.display.specshow(D, sr=sr, y_axis='log', x_axis='time')\n",
    "        dbs = librosa.amplitude_to_db(D, ref=np.max)\n",
    "        librosa.display.specshow(dbs, sr=sr, y_axis='log', x_axis='time')\n",
    "        #get the loudest location's index\n",
    "        ax = plt.subplot(2, 1, 2)\n",
    "    \n",
    "        plt.plot( amp_sum )\n",
    "    \n",
    "    \n",
    "    prom_amp = amp_sum.tolist().index(max(amp_sum))\n",
    "    return GetSingleSegmentFreq( wf_np, sr, prom_amp, n_slices, filt_Hz=filt_Hz, samples=samples, output=output )\n",
    "    \n",
    "\n",
    "#GetSlicesAroundPeakVolume( wf_np, sr, n_slices=3, filt_Hz=900, output=True)\n",
    "#later get spacing between two largest peaks"
   ]
  },
  {
   "cell_type": "code",
   "execution_count": null,
   "metadata": {},
   "outputs": [],
   "source": [
    "type( ( 10 ,))"
   ]
  },
  {
   "cell_type": "code",
   "execution_count": null,
   "metadata": {},
   "outputs": [],
   "source": [
    "for i in range(-4,4+1):\n",
    "    print(i)"
   ]
  },
  {
   "cell_type": "markdown",
   "metadata": {},
   "source": [
    "Fourier Transform on the entire spectrum using scipy"
   ]
  },
  {
   "cell_type": "code",
   "execution_count": 10,
   "metadata": {},
   "outputs": [],
   "source": [
    "def TotalFourierPeak( y, filt_Hz=400, output=False ):\n",
    "    fourier = scipy.fft( y )\n",
    "    N = len(y)\n",
    "    y2 = fourier[:int(N/2)]/N\n",
    "    y2_abs = np.abs(y2)\n",
    "    y2_abs[:filt_Hz] = 0\n",
    "    \n",
    "    #ApplyFilter([y2_abs], sr, upperfreq=200)\n",
    "    y2max, y2max_abs = max(y2), max(y2_abs)\n",
    "    i_y2max, i_y2max_abs = y2.tolist().index(max(y2)), y2_abs.tolist().index(max(y2_abs))\n",
    "    \n",
    "    if output:\n",
    "        print(f'max {max(y2)}, position: {y2.tolist().index(max(y2))} ' )\n",
    "        print( y2max_abs)\n",
    "        f,ax = plt.subplots( figsize=(14,10) )\n",
    "        #ax.plot( y2 )\n",
    "        \n",
    "        ax.plot( y2_abs )\n",
    "        ax.plot( i_y2max_abs,  y2max_abs, 'x')\n",
    "        ax.set_xscale('log')\n",
    "        ax.set_yscale('log')\n",
    "        ax.set_xlabel('Hz')\n",
    "        ax.set_ylabel('occurances')\n",
    "        ax.set_title('total fourier transform')\n",
    "        #ax.vlines( i_y2max_abs, 0,  y2max_abs  )\n",
    "        print( y2max, y2max_abs )\n",
    "    return i_y2max_abs\n",
    "\n",
    "\n",
    "#f_peak = TotalFourierPeak( wf_np, output=True )\n",
    "#f_peak\n"
   ]
  },
  {
   "cell_type": "code",
   "execution_count": null,
   "metadata": {},
   "outputs": [],
   "source": [
    "a = ([0],\n",
    "    [2])\n",
    "x = np.array( a )\n",
    "y = np.array( (0,1,2) )\n",
    "y = x\n",
    "try:\n",
    "    pritn(y.shape[1])\n",
    "    print(y.max())\n",
    "    \n",
    "except:\n",
    "    print(y.shape[0])\n",
    "    print(y.max())"
   ]
  },
  {
   "cell_type": "code",
   "execution_count": null,
   "metadata": {},
   "outputs": [],
   "source": [
    "#plt.plot( np.abs(fourier) );\n",
    "fourier = scipy.fft( wf_np )\n",
    "N = len(wf_np)\n",
    "\n",
    "y2 = fourier[:int(N/2)]/N\n",
    "ySS = y2[1:] = 2*y2[1:]\n",
    "#y2 = fourier\n",
    "f,ax = plt.subplots(3,1, sharex=True)\n",
    "ax[0].plot( np.abs( fourier ));\n",
    "ax[1].plot( np.abs( y2 ));\n",
    "ax[2].plot( np.abs( ySS ))\n",
    "\n",
    "for i in range(3):\n",
    "    ax[i].set_yscale('log')\n",
    "    ax[i].set_xscale('log')\n",
    "    \n",
    "print(f'max ss{max(ySS)}, position: {ySS.tolist().index(max(ySS))} ' )\n",
    "#print(f'max {max(y2)}, position: {y2.tolist().index(max(y2))} ' )\n"
   ]
  },
  {
   "cell_type": "markdown",
   "metadata": {},
   "source": [
    "rework to have the contrast vales for te different bands always with their index\n",
    "- i.e. badn 6 min, max, mean, std always same position"
   ]
  },
  {
   "cell_type": "code",
   "execution_count": 18,
   "metadata": {},
   "outputs": [
    {
     "data": {
      "text/plain": [
       "([3164.0625,\n",
       "  55,\n",
       "  2121.2222434897826,\n",
       "  4518,\n",
       "  1101.5625,\n",
       "  3187.5,\n",
       "  3164.0625,\n",
       "  3187.5,\n",
       "  3023.4375,\n",
       "  2859.375,\n",
       "  0.0011650039,\n",
       "  0.15782984,\n",
       "  0.03120755,\n",
       "  0.046187542,\n",
       "  2.1014691e-06,\n",
       "  0.024578407,\n",
       "  0.007777903,\n",
       "  0.008215524,\n",
       "  2484.375,\n",
       "  9960.9375,\n",
       "  6208.0078125,\n",
       "  2792.131606836282,\n",
       "  2163.8939360619943,\n",
       "  4810.253751531995,\n",
       "  3672.3120068697726,\n",
       "  692.626832756805,\n",
       "  757.2969103941707,\n",
       "  4692.865180545092,\n",
       "  3120.577924951068,\n",
       "  1379.997642103525,\n",
       "  6,\n",
       "  4,\n",
       "  5,\n",
       "  3,\n",
       "  0,\n",
       "  2,\n",
       "  1,\n",
       "  22.59945664980125,\n",
       "  32.554228927397595,\n",
       "  25.089769982459377,\n",
       "  2.1429176794708025,\n",
       "  10.611921964117439,\n",
       "  50.7748683731066,\n",
       "  22.064238471671654,\n",
       "  9.05503439965592,\n",
       "  9.53503803374651,\n",
       "  41.08064362948048,\n",
       "  22.29316024574146,\n",
       "  7.3716388453022175,\n",
       "  7.383054096238728,\n",
       "  27.33464269747713,\n",
       "  12.854138162673612,\n",
       "  3.420138437337037,\n",
       "  4.345080480409878,\n",
       "  28.3420675106288,\n",
       "  11.005365200183576,\n",
       "  3.5452142806624662,\n",
       "  3.819072085876222,\n",
       "  24.5595243123245,\n",
       "  10.741583571580744,\n",
       "  3.6030180922229182,\n",
       "  3.5527388633056667,\n",
       "  21.22834269937501,\n",
       "  11.826254059429496,\n",
       "  2.933077643687133,\n",
       "  69600,\n",
       "  48000,\n",
       "  '/home/chris/Documents/Insight2020/birdsounder-model/../examples/cutclips/Black-necked Stilt'],\n",
       " 68)"
      ]
     },
     "execution_count": 18,
     "metadata": {},
     "output_type": "execute_result"
    }
   ],
   "source": [
    "##libs needed:\n",
    "#torchaudio\n",
    "#librosa\n",
    "\n",
    "##fucntions needed:\n",
    "#GetPromFreqIndex\n",
    "#GetFreqRange\n",
    "#ConstantQPower\n",
    "#GetPromMelFreqIndex\n",
    "#librosa.core.mel_frequencies\n",
    "#TotalFourierPeak\n",
    "#GetSlicesAroundPeakVolume\n",
    "def GetParamsForFile( file, path, flt=False ):\n",
    "    '''get the params to feed into:\n",
    "        - the .csv f.write() funciton \n",
    "        - the model as a row for the predict\" method '''\n",
    "    filename = os.path.join( path, file )\n",
    "    wf, sr = torchaudio.load( filename )\n",
    "    wf_np = np.asfortranarray( wf[0].numpy() )\n",
    "    \n",
    "    #get the prominent freq range from stft\n",
    "    prom_freq_index = GetPromFreqIndex(y=wf_np, sr=sr, filt_Hz=600)\n",
    "    prom_freq_range = GetFreqRange( indexes=prom_freq_index, sample_rate=sr) \n",
    "    #get constant Q freq\n",
    "    prom_Q_freq = ConstatQPower(y=wf_np, sr=sr)\n",
    "    #get mel freq maximum\n",
    "    prom_freq_index = GetPromMelFreqIndex(y=wf_np, sr=sr)\n",
    "    mel_freq = librosa.core.mel_frequencies()[prom_freq_index:prom_freq_index+2]\n",
    "    #get the most prominent frequency from the total fourier transform\n",
    "    fourier_freq = TotalFourierPeak( wf_np )\n",
    "    #get the frequencies from the slices around the peak volume\n",
    "    slice_freqs = GetSlicesAroundPeakVolume(wf_np, sr, n_slices=3, filt_Hz=900)\n",
    "    #new, added features\n",
    "    wfN = Normalize( wf ) \n",
    "    y = np.asfortranarray( wf[0].numpy() )\n",
    "    rms = list( GetRMS( y ) )\n",
    "    flat = list( GetFlatness( y ) )\n",
    "    rolloff = list( GetRolloff(y, sr) )\n",
    "    centroids = list( GetCentroids( y, sr ) )\n",
    "    bandwidths = list( GetBandwidth( y, sr ) )\n",
    "    \n",
    "    cont_ranks, contrasts =  GetContrast(y, sr)[:3]\n",
    "    #conts = contrasts[:3]\n",
    "    #print(conts[0])\n",
    "    \n",
    "    #get the species name from the filename string, this is the target value\n",
    "    species_name = file.split('_')\n",
    "    species_name = species_name[0]\n",
    "    \n",
    "    param_list = [ prom_freq_range[0], prom_Q_freq, mel_freq[0], fourier_freq ] +\\\n",
    "        [sf[0] for sf in slice_freqs] +\\\n",
    "        rms + flat + rolloff + centroids + bandwidths+\\\n",
    "        cont_ranks +\\\n",
    "        list(contrasts[6]) + list(contrasts[5]) + list(contrasts[4])+ list(contrasts[3]) +\\\n",
    "        list(contrasts[2]) + list(contrasts[1]) + list(contrasts[0]) +\\\n",
    "        [wf_np.shape[0], sr, species_name ]\n",
    "    #string_to_write = f'{prom_freq_range[0]}, {prom_Q_freq}, {mel_freq[0]}, {slice_before[0]}, {slice_after[0]},\\\n",
    "                    #{times[prom_amp]}, {samples[prom_amp]}, {samples[-1]}, {sr}, {species_name} \\n' \n",
    "    \n",
    "    return param_list            \n",
    "    \n",
    "    \n",
    "    #get equivilent times and sample arrays\n",
    "\n",
    "    '''\n",
    "    #combine the answers to create the string we will be writing\n",
    "    string_to_write = f'{prom_freq_range[0]}, {prom_Q_freq}, {mel_freq[0]}, {slice_before[0]}, {slice_after[0]},\\\n",
    "    {times[prom_amp]}, {samples[prom_amp]}, {samples[-1]}, {sr},{species_name}\\n' \n",
    "    #f.write( string_to_write )\n",
    "    ret = string_to_write.strip().split(',')\n",
    "    #print(ret, len(ret)) #uncomment for testing\n",
    "    to_rem = -1*( len( ret ) - 9  )\n",
    "    #print(to_rem) #uncomment for testing\n",
    "    ret = ret[:to_rem]\n",
    "    ret = [float(r) for r in ret]\n",
    "    \n",
    "    return ret\n",
    "'''\n",
    "file = os.path.join( path, files[1001] )\n",
    "pars = GetParamsForFile( file, path )\n",
    "pars, len(pars)"
   ]
  },
  {
   "cell_type": "code",
   "execution_count": 24,
   "metadata": {},
   "outputs": [
    {
     "data": {
      "text/plain": [
       "('Rufous Hummingbird_5_3.wav',\n",
       " '/home/chris/Documents/Insight2020/birdsounder-model/../examples/cutclips')"
      ]
     },
     "execution_count": 24,
     "metadata": {},
     "output_type": "execute_result"
    }
   ],
   "source": []
  },
  {
   "cell_type": "code",
   "execution_count": 10,
   "metadata": {},
   "outputs": [
    {
     "data": {
      "text/plain": [
       "['American Robin',\n",
       " 'American Crow',\n",
       " 'American Goldfinch',\n",
       " 'Bald Eagle',\n",
       " 'Blue Jay',\n",
       " 'Brown-headed Cowbird',\n",
       " 'Carolina Chickadee',\n",
       " 'Canada Goose',\n",
       " 'Eastern Bluebird',\n",
       " 'Indigo Bunting',\n",
       " 'Mallard',\n",
       " 'Purple Finch',\n",
       " 'Red-winged Blackbird',\n",
       " 'Rose-breasted Grosbeak',\n",
       " 'Tufted Titmouse',\n",
       " 'Scarlet Tanager']"
      ]
     },
     "execution_count": 10,
     "metadata": {},
     "output_type": "execute_result"
    }
   ],
   "source": [
    "species = [\n",
    "    ('American Robin', 281),\n",
    "    ('American Crow', 20),\n",
    "    ('American Goldfinch', 286),\n",
    "    ('Bald Eagle', 68),\n",
    "    ('Blue Jay', 182),\n",
    "    ('Brown-headed Cowbird', 230),\n",
    "    ('Carolina Chickadee', 53),\n",
    "    ('Canada Goose', 238),\n",
    "    ('Eastern Bluebird', 243),\n",
    "    ('Indigo Bunting', 264),\n",
    "    ('Mallard', 101),\n",
    "    ('Purple Finch', 233),\n",
    "    ('Red-winged Blackbird', 138), #file 72 is a good example\n",
    "    ('Rose-breasted Grosbeak', 186), #file 10\n",
    "    ('Tufted Titmouse', 78), #file 5 good example (file 0 bad sound at end file 4 bad at beginning)\n",
    "    ('Scarlet Tanager', 29)\n",
    "]\n",
    "\n",
    "species_list = [spec for spec,n in species]\n",
    "species_list"
   ]
  },
  {
   "cell_type": "code",
   "execution_count": 19,
   "metadata": {},
   "outputs": [],
   "source": [
    "#function to write a CSV file to feed into pandas, then the ML model\n",
    "def WriteCSV( files, path ):\n",
    "    with open('bird_train.csv', 'w+') as f:\n",
    "        #write headers line\n",
    "        headers_string = 'peak_Hz,peak_Q,peak_mel,fourier_freq,\\\n",
    "        ampmax_n3,ampmax_n2,ampmax_n1,ampmax_0,ampmax_p1,ampmax_p2,\\\n",
    "        rms_min,rms_max,rms_mean,rms_std,flat_min,flat_max,flat_mean,flat_std,\\\n",
    "        rolloff_min,rolloff_max,rolloff_mean,rolloff_std,\\\n",
    "        centroid_min,centroid_max,centroid_mean,centroid_std,\\\n",
    "        bandwidth_min,bandwidth_max,bandwidth_mean,bandwidth_std,\\\n",
    "        band_cont0,band_cont1,band_cont2,band_cont3,band_cont4,band_cont5,band_cont6,\\\n",
    "        min_cont6,max_cont6,mean_cont6,std_cont6,\\\n",
    "        min_cont5,max_cont5,mean_cont5,std_cont5,\\\n",
    "        min_cont4,max_cont4,mean_cont4,std_cont4,\\\n",
    "        min_cont3,max_cont3,mean_cont3,std_cont3,\\\n",
    "        min_cont2,max_cont2,mean_cont2,std_cont2,\\\n",
    "        min_cont1,max_cont1,mean_cont1,std_cont1,\\\n",
    "        min_cont0,max_cont0,mean_cont0,std_cont0,\\\n",
    "        num_samples,sample_rate,species\\n' #for n_points = 5\n",
    "        #print('headers len', len(headers_string.split(',')))\n",
    "        f.write( headers_string )\n",
    "        exception_list = []\n",
    "        for i,file in enumerate(files):\n",
    "            try:\n",
    "                param_list = GetParamsForFile( file, path )\n",
    "                string_to_write = ','.join( [str(pl) for pl in param_list]  )\n",
    "                f.write( string_to_write )\n",
    "                f.write('\\n')\n",
    "\n",
    "            except Exception as e:\n",
    "                exception_list.append( e )\n",
    "                #raise e\n",
    "                print(i)\n",
    "                print('failed to process', file, 'due to exception', e)\n",
    "            \n",
    "            #if i==1: break\n",
    "        f.close()  \n",
    "    return exception_list\n",
    "            "
   ]
  },
  {
   "cell_type": "code",
   "execution_count": 20,
   "metadata": {},
   "outputs": [
    {
     "name": "stdout",
     "output_type": "stream",
     "text": [
      "number of files 63162\n"
     ]
    }
   ],
   "source": [
    "import os\n",
    "cwd = os.getcwd()\n",
    "path =  os.path.join( cwd, '../examples/cutclips' )\n",
    "files = [f for f in os.listdir( path )]\n",
    "print('number of files', len(files) )"
   ]
  },
  {
   "cell_type": "code",
   "execution_count": null,
   "metadata": {},
   "outputs": [],
   "source": [
    "## loop through all files in species_list, and write your .CSV file to feed the model\n",
    "filesin = []\n",
    "for file in files:\n",
    "    for spec in species_list:\n",
    "        if spec in file:\n",
    "            filesin.append( file )\n",
    "\n",
    "print('number of files', len(filesin) )"
   ]
  },
  {
   "cell_type": "code",
   "execution_count": 21,
   "metadata": {},
   "outputs": [
    {
     "data": {
      "text/plain": [
       "[]"
      ]
     },
     "execution_count": 21,
     "metadata": {},
     "output_type": "execute_result"
    }
   ],
   "source": [
    "\n",
    "#WriteCSV( filesin, path ) #just species list\n",
    "WriteCSV( files, path ) #all clip files (60k)\n"
   ]
  },
  {
   "cell_type": "code",
   "execution_count": null,
   "metadata": {},
   "outputs": [],
   "source": [
    "print(files)"
   ]
  },
  {
   "cell_type": "code",
   "execution_count": null,
   "metadata": {},
   "outputs": [],
   "source": [
    "len(exception_list)/len(files)"
   ]
  },
  {
   "cell_type": "code",
   "execution_count": null,
   "metadata": {},
   "outputs": [],
   "source": [
    "#gradient boosting#\n",
    "#try XGDboost"
   ]
  },
  {
   "cell_type": "code",
   "execution_count": null,
   "metadata": {},
   "outputs": [],
   "source": [
    "#loop over the files in the folder, and create a csv to use for training\n",
    "\n",
    "def WriteCSV_old( files, path ):\n",
    "    with open('bird_train.csv', 'w+') as f:\n",
    "        #write headers line\n",
    "        f.write( 'peak_Hz, peak_Q, peak_mel, peak_before_ampmax, peak_after_ampmax,\\\n",
    "        ampmax_time, ampmax_sample, num_samples, sample_rate, species \\n' )\n",
    "        for file in files:\n",
    "            try:\n",
    "                filename = os.path.join( path, file )\n",
    "                wf, sr = torchaudio.load( filename )\n",
    "                wf_np = np.asfortranarray( wf[0].numpy() )\n",
    "                #get the prominent freq range from stft\n",
    "                prom_freq_index = GetPromFreqIndex(y=wf_np, sr=sr)\n",
    "                prom_freq_range = GetFreqRange( index=prom_freq_index, sample_rate=sr) \n",
    "                #get constant Q freq\n",
    "                prom_Q_freq = ConstatQPower(y=wf_np, sr=sr)\n",
    "                #get mel freq maximum\n",
    "                prom_freq_index = GetPromMelFreq(y=wf_np, sr=sr)\n",
    "                mel_freq = librosa.core.mel_frequencies()[prom_freq_index:prom_freq_index+2]\n",
    "                #find the time bin which has the greatest amplitude\n",
    "                D = np.abs(librosa.stft(wf_np))\n",
    "                amp_sum = D.sum(0)\n",
    "                prom_amp = amp_sum.tolist().index(max(amp_sum))\n",
    "                times = librosa.times_like(D)\n",
    "                samples = librosa.samples_like(D)\n",
    "                #get peak before and after\n",
    "                n_fft = 2048\n",
    "\n",
    "                ft = np.abs(librosa.stft(wf_np[samples[prom_amp]:samples[prom_amp]+n_fft], n_fft=n_fft,\n",
    "                        hop_length=n_fft+1))\n",
    "\n",
    "                prom_freq = ft.tolist().index(max(ft))\n",
    "                slice_after =GetFreqRange( prom_freq, sample_rate=sr )\n",
    "                ft = np.abs(librosa.stft(wf_np[samples[prom_amp]-n_fft:samples[prom_amp]], n_fft=n_fft,\n",
    "                        hop_length=n_fft+1))\n",
    "                prom_freq = ft.tolist().index(max(ft))\n",
    "                slice_before = GetFreqRange( prom_freq, sample_rate=sr )\n",
    "                species_name = file.split('_')\n",
    "                species_name = species_name[0]\n",
    "                #get equivilent times and sample arrays\n",
    "\n",
    "                #combine the answers to create the string we will be writing\n",
    "                string_to_write = f'{prom_freq_range[0]}, {prom_Q_freq}, {mel_freq[0]}, {slice_before[0]}, {slice_after[0]},\\\n",
    "                {times[prom_amp]}, {samples[prom_amp]}, {samples[-1]}, {sr}, {species_name} \\n' \n",
    "                f.write( string_to_write )\n",
    "                #f.write( 'peak_Hz peak_Q peak_mel before_ampmax after_ampmax ampmax_time amp_max_sample sample_rate species' ) )\n",
    "                #f.write( 'peak_Hz peak_Q peak_mel peak_before_ampmax peak_after_ampmax sample_rate species'.split() ) )\n",
    "\n",
    "            except Exception as e:\n",
    "                print('failed to process', filename, 'due to exception', e)\n",
    "            #break\n",
    "        f.close()\n",
    "            "
   ]
  },
  {
   "cell_type": "code",
   "execution_count": null,
   "metadata": {},
   "outputs": [],
   "source": [
    "#read in the csv to pandas\n",
    "import pandas as pd\n",
    "filename = 'bird_train.csv'\n",
    "data = pd.read_csv(filename)\n",
    "data.head()"
   ]
  },
  {
   "cell_type": "code",
   "execution_count": null,
   "metadata": {},
   "outputs": [],
   "source": [
    "#most prominent frequencies seem to be below 100 Hz, check what note this corresponds to\n",
    "#around this value will likely be a good value to applymy filter to\n",
    "#maybe a simple solution is to just set all values below a certain frequency to 0\n",
    "for n in data.peak_Hz.value_counts().items():\n",
    "    print(n)"
   ]
  },
  {
   "cell_type": "code",
   "execution_count": null,
   "metadata": {},
   "outputs": [],
   "source": [
    "#data.tail(10)\n",
    "#data.isnull().sum()\n",
    "for item in data:\n",
    "    print(f'item {item}: data {data[item].nunique()}' )"
   ]
  },
  {
   "cell_type": "code",
   "execution_count": null,
   "metadata": {},
   "outputs": [],
   "source": [
    "#data['species'].value_counts()\n",
    "data.species.value_counts()"
   ]
  },
  {
   "cell_type": "code",
   "execution_count": null,
   "metadata": {},
   "outputs": [],
   "source": [
    "import matplotlib.pyplot as plt\n",
    "#plot the prominent frequency for each species\n",
    "#spec = data.groupby('species')\n",
    "key0 = 'species'\n",
    "key1 = 'sample_rate'\n",
    "xkey = 'peak_Hz'\n",
    "ykey =  'peak_Q'\n",
    "#xykey = 'peak_before_ampmax'\n",
    "#ykey = ' peak_after_ampmax'\n",
    "\n",
    "f,axs = plt.subplots(2, 1)\n",
    "for conv, frame in data.groupby(key0):\n",
    "    \n",
    "    for source, frame2 in frame.groupby(key1):\n",
    "        print('conv', conv, 'source', source)\n",
    "        \n",
    "        if source == 44100:\n",
    "            ax = axs[0]\n",
    "        elif source == 48000:\n",
    "            ax = axs[1]\n",
    "        #elif source == 'seo':\n",
    "        #    ax = ax3\n",
    "        else:\n",
    "            raise ValueError('problem with source check in PlotInside!')\n",
    "\n",
    "        ax.scatter(frame2[xkey], frame2[ykey],\n",
    "            edgecolors='none', \n",
    "            label='{} {}, {} {}'.format(key0, conv, key1, source), #add label with conversion\n",
    "            alpha = 0.4 )\n",
    "#ax.legend()\n",
    "ax.set_xlabel( xkey )\n",
    "ax.set_ylabel( ykey )\n",
    "plt.show();"
   ]
  },
  {
   "cell_type": "code",
   "execution_count": null,
   "metadata": {},
   "outputs": [],
   "source": [
    "#use OneHot encoding to transform categorical data into something useful\n",
    "from sklearn.preprocessing import OneHotEncoder\n",
    "#simple imputer will handle missing values\n",
    "from sklearn.impute import SimpleImputer\n",
    "#chain together multiple transformations in one custom filter\n",
    "from sklearn.pipeline import Pipeline\n",
    "#select (by column header/key) which columns get which kind of transformation\n",
    "from sklearn.compose import ColumnTransformer"
   ]
  },
  {
   "cell_type": "code",
   "execution_count": null,
   "metadata": {},
   "outputs": [],
   "source": [
    "#choose which columns get transformed\n",
    "cat_cols = ['species']\n",
    "#create the pipeline\n",
    "cat_si_step = ('si', SimpleImputer(strategy='constant',\n",
    "                   fill_value='MISSING'))\n",
    "cat_ohe_step = ('ohe', OneHotEncoder(sparse=False,\n",
    "                    handle_unknown='ignore'))\n",
    "\n",
    "#combine the two transformations into a single Pipeline\n",
    "cat_steps = [cat_si_step, cat_ohe_step]\n",
    "cat_pipe = Pipeline(cat_steps)\n",
    "\n",
    "cat_transformers = [('cat', cat_pipe, cat_cols)]\n",
    "ct = ColumnTransformer(transformers=cat_transformers)\n",
    "\n",
    "#train = train[['species']].copy()\n",
    "#output_data = temp.reshape(-1, 1)\n",
    "#output_data = one_hot_encoder.fit_transform(output_data).toarray()\n",
    "#target_fit_transformed = ct.fit_transform(data)\n",
    "target_transformed = ct.transform(data)\n",
    "pd.DataFrame( target_transformed ).tail(6)"
   ]
  },
  {
   "cell_type": "code",
   "execution_count": null,
   "metadata": {},
   "outputs": [],
   "source": [
    "def ExtractOneHot( string_in ):\n",
    "    pass\n",
    "\n",
    "all_steps = ct.named_transformers_['cat']\n",
    "ohe = all_steps.named_steps['ohe']\n",
    "cat_feature_names = ohe.get_feature_names()\n",
    "ohe_column_names = [cfn.strip('x0_').strip() for cfn in cat_feature_names]\n",
    "cat_feature_names, ohe_column_names "
   ]
  },
  {
   "cell_type": "code",
   "execution_count": null,
   "metadata": {},
   "outputs": [],
   "source": [
    "#from sklearn.ensemble import RandomForestRegressor\n",
    "from sklearn.model_selection import train_test_split\n",
    "#from sklearn.multioutput import MultiOutputRegressor\n",
    "\n",
    "fraction = 0.75  # 25% of the available data will be used as the test set\n",
    "index_to_split_at = int( data.shape[0]*fraction )\n",
    "print('index', index_to_split_at)\n",
    "train = data.iloc[:index_to_split_at]\n",
    "test  = data.iloc[index_to_split_at:]\n",
    "\n",
    "#targets = data.pop('species').values\n",
    "\n",
    "#target_test = test.pop('converted').values\n",
    "train.tail(6)"
   ]
  },
  {
   "cell_type": "code",
   "execution_count": null,
   "metadata": {},
   "outputs": [],
   "source": [
    "#ratio of species in train vs test (ideally should be ~3 for all)\n",
    "train.species.value_counts()/test.species.value_counts(), test.species.value_counts()"
   ]
  },
  {
   "cell_type": "code",
   "execution_count": null,
   "metadata": {},
   "outputs": [],
   "source": [
    "#seperate the target value column that will be use to learn ( i.e. the 'converted' column )\n",
    "target_train = train.pop('species').values\n",
    "target_test = test.pop('species').values\n",
    "#target_train = train_transformed\n",
    "#target_test = test_transformed\n",
    "#target_train = target_train[[species]].copy()"
   ]
  },
  {
   "cell_type": "code",
   "execution_count": null,
   "metadata": {},
   "outputs": [],
   "source": [
    "target_train = pd.DataFrame( train_transformed )\n",
    "target_test = pd.DataFrame( test_transformed )\n",
    "target_test.head(6), target_train.head(6)"
   ]
  },
  {
   "cell_type": "code",
   "execution_count": null,
   "metadata": {},
   "outputs": [],
   "source": []
  },
  {
   "cell_type": "code",
   "execution_count": null,
   "metadata": {},
   "outputs": [],
   "source": [
    "from sklearn.svm import SVC\n",
    "clf = SVC(gamma='auto')\n",
    "clf.fit(train, target_train)\n",
    "pred = clf.predict( test )"
   ]
  },
  {
   "cell_type": "code",
   "execution_count": null,
   "metadata": {},
   "outputs": [],
   "source": [
    "from sklearn.multioutput import MultiOutputRegressor\n",
    "from sklearn.ensemble import RandomForestRegressor\n",
    "\n",
    "max_depth = 100\n",
    "regr_multirf = MultiOutputRegressor(RandomForestRegressor(n_estimators=100, max_depth=max_depth, random_state=12))\n",
    "regr_multirf.fit(train, target_train)\n",
    "\n",
    "regr_rf = RandomForestRegressor(n_estimators=100, max_depth=max_depth, random_state=2)\n",
    "regr_rf.fit(train, target_train)"
   ]
  },
  {
   "cell_type": "code",
   "execution_count": null,
   "metadata": {},
   "outputs": [],
   "source": [
    "y_multirf = regr_multirf.predict(test)\n",
    "y_rf = regr_rf.predict(test)"
   ]
  },
  {
   "cell_type": "markdown",
   "metadata": {},
   "source": [
    "the following two commands extract the model"
   ]
  },
  {
   "cell_type": "code",
   "execution_count": null,
   "metadata": {},
   "outputs": [],
   "source": [
    "from joblib import dump, load\n",
    "dump(regr_rf, 'rf_model.joblib') "
   ]
  },
  {
   "cell_type": "code",
   "execution_count": null,
   "metadata": {},
   "outputs": [],
   "source": []
  },
  {
   "cell_type": "code",
   "execution_count": null,
   "metadata": {},
   "outputs": [],
   "source": [
    "df = pd.DataFrame( y_rf )\n",
    "df.columns = ohe_column_names \n",
    "\n",
    "#test.species.value_counts()"
   ]
  },
  {
   "cell_type": "code",
   "execution_count": null,
   "metadata": {},
   "outputs": [],
   "source": [
    "regr_rf_loaded = load('rf_model.joblib') \n",
    "predicted =  regr_rf_loaded.predict( test ) \n",
    "print(predicted.shape)\n",
    "xy_diff = target_test - predicted\n",
    "\n",
    "xy_diff.columns = ohe_column_names\n",
    "#xy_diff.tail(6)\n",
    "#for row in predicted:\n",
    "#    print(max(row))\n",
    "#predicted"
   ]
  },
  {
   "cell_type": "code",
   "execution_count": null,
   "metadata": {},
   "outputs": [],
   "source": [
    "def GetPrediction( single_params, model, col_names, output=False ):\n",
    "    unseen_test = np.array( single_params ).reshape(-1, 1)\n",
    "    if output: print( unseen_test, unseen_test.shape )\n",
    "    prediction = regr_rf_loaded.predict( unseen_test.transpose() )\n",
    "    result = pd.DataFrame( prediction )\n",
    "    result.columns = col_names\n",
    "    res_sort = result.iloc[0].sort_values(axis=0, ascending=False)\n",
    "    \n",
    "    return res_sort\n"
   ]
  },
  {
   "cell_type": "code",
   "execution_count": null,
   "metadata": {},
   "outputs": [],
   "source": [
    "#run a single prediction\n",
    "n = 641\n",
    "file = files[n]\n",
    "filename = os.path.join( path, file )\n",
    "wf, sr = torchaudio.load( filename )\n",
    "wf_np = np.asfortranarray( wf[0].numpy() )\n",
    "specgram = torchaudio.transforms.Spectrogram()( wf )\n",
    "print('sample rate')\n",
    "pars = GetParamsFromFile( file, path )\n",
    "result = GetPrediction( pars, model=regr_rf_loaded, col_names=ohe_column_names )\n",
    "#res_sort = result.iloc[0].sort_values(axis=0, ascending=False)\n",
    "result, type( result ), result.keys()[0]\n",
    "#result.sort(result.iloc[0], ascending=0)"
   ]
  },
  {
   "cell_type": "code",
   "execution_count": null,
   "metadata": {},
   "outputs": [],
   "source": [
    "#check results against model\n",
    "n = 0\n",
    "correct = 0\n",
    "errors = 0\n",
    "incorrects = []\n",
    "for file in files:\n",
    "    try:\n",
    "        filename = os.path.join( path, file )\n",
    "        wf, sr = torchaudio.load( filename )\n",
    "        wf_np = np.asfortranarray( wf[0].numpy() )\n",
    "        pars = GetParamsFromFile( file, path )\n",
    "        result = GetPrediction( pars, model=regr_rf_loaded, col_names=ohe_column_names )\n",
    "        spec_name = file.split('_')[0]\n",
    "        true = result.keys()[0] == spec_name\n",
    "        n += true\n",
    "        #print(file)\n",
    "        print( f'{true}, actual call {spec_name} == {result.keys()[0]} top result' )\n",
    "        if not true:\n",
    "            incorrects.append( spec_name )\n",
    "    except:\n",
    "        \n",
    "        errors += 1\n",
    "    #break\n",
    "    \n",
    "n, errors, len(files), n/len(files), incorrects, data.shape"
   ]
  },
  {
   "cell_type": "code",
   "execution_count": null,
   "metadata": {},
   "outputs": [],
   "source": [
    "n, errors, len(files), (n)/(len(files)-errors), len(incorrects), data.shape"
   ]
  },
  {
   "cell_type": "code",
   "execution_count": null,
   "metadata": {},
   "outputs": [],
   "source": [
    "incs = pd.DataFrame( incorrects )\n",
    "incs[0].value_counts(), data.species.value_counts(), df[0]"
   ]
  },
  {
   "cell_type": "code",
   "execution_count": null,
   "metadata": {},
   "outputs": [],
   "source": [
    "(2015, 110, 2376, 0.8480639730639731)"
   ]
  },
  {
   "cell_type": "code",
   "execution_count": null,
   "metadata": {},
   "outputs": [],
   "source": [
    "files[0].split('_')[0]"
   ]
  },
  {
   "cell_type": "code",
   "execution_count": null,
   "metadata": {},
   "outputs": [],
   "source": [
    "import numpy as np\n",
    "import matplotlib.pyplot as plt\n",
    "\n",
    "target_test = np.array( target_test )\n",
    "target_train = np.array( target_train )\n",
    "train = np.array( train )\n",
    "test = np.array( test )\n",
    "\n",
    "plt.figure( figsize=(10,8))\n",
    "s = 50\n",
    "a = 0.4\n",
    "plt.scatter(target_test[:, 0], target_test[:, 1], edgecolor='k',\n",
    "            c=\"navy\", s=s, marker=\"s\", alpha=a, label=\"Data\")\n",
    "plt.scatter(y_multirf[:, 0], y_multirf[:, 1], edgecolor='k',\n",
    "            c=\"cornflowerblue\", s=s, alpha=a,\n",
    "            label=\"Multi RF score=%.2f\" % regr_multirf.score(test, target_test))\n",
    "plt.scatter(y_rf[:, 0], y_rf[:, 1], edgecolor='k',\n",
    "            c=\"c\", s=s, marker=\"^\", alpha=a,\n",
    "            label=\"RF score=%.2f\" % regr_rf.score(test, target_test))\n",
    "#plt.xlim([-6, 6])\n",
    "#plt.ylim([-6, 6])\n",
    "plt.xlabel(\"target 1\")\n",
    "plt.ylabel(\"target 2\")\n",
    "plt.title(\"Comparing random forests and the multi-output meta estimator\")\n",
    "plt.legend()\n",
    "plt.show()"
   ]
  },
  {
   "cell_type": "code",
   "execution_count": null,
   "metadata": {},
   "outputs": [],
   "source": [
    "#save the results for use later\n",
    "import pickle\n",
    "s = pickle.dumps(regr_rf)\n",
    "#regr_rf_loaded = pickle.loads(s)\n"
   ]
  },
  {
   "cell_type": "code",
   "execution_count": null,
   "metadata": {},
   "outputs": [],
   "source": [
    "type(test), type(train), type(target_test), type(target_train)"
   ]
  },
  {
   "cell_type": "code",
   "execution_count": null,
   "metadata": {},
   "outputs": [],
   "source": [
    "#end of training...for now"
   ]
  },
  {
   "cell_type": "code",
   "execution_count": null,
   "metadata": {},
   "outputs": [],
   "source": []
  },
  {
   "cell_type": "code",
   "execution_count": null,
   "metadata": {},
   "outputs": [],
   "source": [
    "#https://scikit-learn.org/stable/auto_examples/ensemble/plot_random_forest_regression_multioutput.html\n",
    "import numpy as np\n",
    "import matplotlib.pyplot as plt\n",
    "from sklearn.ensemble import RandomForestRegressor\n",
    "from sklearn.model_selection import train_test_split\n",
    "from sklearn.multioutput import MultiOutputRegressor\n",
    "\n",
    "\n",
    "# Create a random dataset\n",
    "rng = np.random.RandomState(1)\n",
    "X = np.sort(200 * rng.rand(600, 1) - 100, axis=0)\n",
    "y = np.array([np.pi * np.sin(X).ravel(), np.pi * np.cos(X).ravel()]).T\n",
    "y += (0.5 - rng.rand(*y.shape))\n",
    "\n",
    "X_train, X_test, y_train, y_test = train_test_split(\n",
    "    X, y, train_size=400, test_size=200, random_state=4)\n",
    "\n",
    "max_depth = 30\n",
    "regr_multirf = MultiOutputRegressor(RandomForestRegressor(n_estimators=100,\n",
    "                                                          max_depth=max_depth,\n",
    "                                                          random_state=0))\n",
    "regr_multirf.fit(X_train, y_train)\n",
    "\n",
    "regr_rf = RandomForestRegressor(n_estimators=100, max_depth=max_depth,\n",
    "                                random_state=2)\n",
    "regr_rf.fit(X_train, y_train)\n",
    "\n",
    "# Predict on new data\n",
    "y_multirf = regr_multirf.predict(X_test)\n",
    "y_rf = regr_rf.predict(X_test)\n",
    "\n",
    "# Plot the results\n",
    "plt.figure()\n",
    "s = 50\n",
    "a = 0.4\n",
    "plt.scatter(y_test[:, 0], y_test[:, 1], edgecolor='k',\n",
    "            c=\"navy\", s=s, marker=\"s\", alpha=a, label=\"Data\")\n",
    "plt.scatter(y_multirf[:, 0], y_multirf[:, 1], edgecolor='k',\n",
    "            c=\"cornflowerblue\", s=s, alpha=a,\n",
    "            label=\"Multi RF score=%.2f\" % regr_multirf.score(X_test, y_test))\n",
    "plt.scatter(y_rf[:, 0], y_rf[:, 1], edgecolor='k',\n",
    "            c=\"c\", s=s, marker=\"^\", alpha=a,\n",
    "            label=\"RF score=%.2f\" % regr_rf.score(X_test, y_test))\n",
    "plt.xlim([-6, 6])\n",
    "plt.ylim([-6, 6])\n",
    "plt.xlabel(\"target 1\")\n",
    "plt.ylabel(\"target 2\")\n",
    "plt.title(\"Comparing random forests and the multi-output meta estimator\")\n",
    "plt.legend()\n",
    "plt.show()"
   ]
  },
  {
   "cell_type": "code",
   "execution_count": null,
   "metadata": {},
   "outputs": [],
   "source": []
  },
  {
   "cell_type": "code",
   "execution_count": null,
   "metadata": {},
   "outputs": [],
   "source": []
  },
  {
   "cell_type": "code",
   "execution_count": null,
   "metadata": {},
   "outputs": [],
   "source": [
    "ohe = OneHotEncoder(sparse=False)  # make sure the One Hot encoding is dense, not sparse\n",
    "source_train_transformed = ohe.fit_transform(target_train)"
   ]
  },
  {
   "cell_type": "code",
   "execution_count": null,
   "metadata": {},
   "outputs": [],
   "source": [
    "train.head"
   ]
  },
  {
   "cell_type": "code",
   "execution_count": null,
   "metadata": {},
   "outputs": [],
   "source": [
    "X_train, X_test, y_train, y_test = train_test_split(\n",
    "    X, y, train_size=400, test_size=200, random_state=4)"
   ]
  },
  {
   "cell_type": "code",
   "execution_count": null,
   "metadata": {},
   "outputs": [],
   "source": []
  },
  {
   "cell_type": "markdown",
   "metadata": {},
   "source": [
    "find the most prominent time\n",
    "then take the fourier transform around that time\n",
    "to see the frequencies of interest"
   ]
  },
  {
   "cell_type": "code",
   "execution_count": null,
   "metadata": {},
   "outputs": [],
   "source": [
    "\n"
   ]
  },
  {
   "cell_type": "code",
   "execution_count": null,
   "metadata": {},
   "outputs": [],
   "source": []
  },
  {
   "cell_type": "code",
   "execution_count": null,
   "metadata": {},
   "outputs": [],
   "source": []
  },
  {
   "cell_type": "code",
   "execution_count": null,
   "metadata": {},
   "outputs": [],
   "source": []
  },
  {
   "cell_type": "code",
   "execution_count": null,
   "metadata": {},
   "outputs": [],
   "source": [
    "mel = librosa.filters.mel(sr=sr, n_fft=n_fft, n_mels=n_mels)\n",
    "plt.plot(D[:, 1]);\n",
    "plt.plot(mel.dot(D[:, 1]));\n",
    "plt.legend(labels=['Hz', 'mel']);\n",
    "plt.title('One sampled window for example, before and after \\\n",
    "          converting to mel.');"
   ]
  },
  {
   "cell_type": "code",
   "execution_count": null,
   "metadata": {},
   "outputs": [],
   "source": [
    "\n",
    "import matplotlib.gridspec as gridspec\n",
    "\n",
    "f, ax = plt.subplots( 2, 1, figsize=(10,8) )#, constrained_layout=True,\n",
    "                    # gridspec_kw={'width_ratios': [3]} )\n",
    "#gridspec.GridSpec(ncols=1, nrows=2, figure=f)\n",
    "\n",
    "ax[0].plot(wf_np, color='blue')\n",
    "#ax[1].imshow( specgram.log2()[0,:,:].numpy() )\n",
    "ax[1].imshow( specgram.log2()[0].numpy() )\n",
    "\n",
    "plt.tight_layout()\n"
   ]
  },
  {
   "cell_type": "code",
   "execution_count": null,
   "metadata": {},
   "outputs": [],
   "source": [
    "librosa.midi_to_hz(np.arange(36, 48))"
   ]
  },
  {
   "cell_type": "code",
   "execution_count": null,
   "metadata": {},
   "outputs": [],
   "source": [
    "#sum the stft along the rows and columns\n",
    "##the sum along the \"rows\" give the number of occurences of each frequency\n",
    "col_sum = specgram[0].sum(0) #frequency of frequency\n",
    "row_sum = specgram[0].sum(1) #total sound amplitudes vs time\n",
    "\n",
    "plt.plot(col_sum)\n",
    "plt.title( 'sum power amplitudes vs time')\n",
    "plt.show()\n",
    "\n",
    "f,ax = plt.subplots()\n",
    "plt.title( 'sum of frequency appearances')\n",
    "ax.plot(row_sum)\n",
    "ax.set_yscale('log')"
   ]
  },
  {
   "cell_type": "code",
   "execution_count": null,
   "metadata": {},
   "outputs": [],
   "source": [
    "mfcc = torchaudio.transforms.MFCC(sample_rate=sr)(wf)\n",
    "mfcc_np = mfcc.detach()[0].numpy()\n",
    "plt.imshow( mfcc.detach()[0].numpy() )\n",
    "plt.show()\n",
    "plt.\n",
    "\n",
    "#plt.plot( mfcc.numpy() )"
   ]
  },
  {
   "cell_type": "code",
   "execution_count": null,
   "metadata": {},
   "outputs": [],
   "source": [
    "import librosa\n",
    "import librosa.display\n",
    "#using librosa to plot the spectrogram\n",
    "y = wf_np\n",
    "D = np.abs(librosa.stft(y))\n",
    "times = librosa.times_like(D)\n",
    "plt.figure()\n",
    "ax1 = plt.subplot(2, 1, 1)\n",
    "dbs = librosa.amplitude_to_db(D, ref=np.max)\n",
    "librosa.display.specshow(dbs,\n",
    "                         y_axis='log', x_axis='time')\n",
    "plt.title('Power spectrogram')"
   ]
  },
  {
   "cell_type": "code",
   "execution_count": null,
   "metadata": {},
   "outputs": [],
   "source": [
    "plt.plot( D.sum(1) )\n",
    "plt.show()\n",
    "plt.plot(dbs.sum(1))\n",
    "D.shape, dbs.shape"
   ]
  },
  {
   "cell_type": "code",
   "execution_count": null,
   "metadata": {},
   "outputs": [],
   "source": [
    "cepstral = librosa.feature.mfcc(y, sr=sr) \n",
    "librosa.display.specshow( cepstral, x_axis='time' )\n",
    "plt.colorbar()"
   ]
  },
  {
   "cell_type": "code",
   "execution_count": null,
   "metadata": {},
   "outputs": [],
   "source": [
    "#plot the rms values\n",
    "S, phase = librosa.magphase(librosa.stft(y))\n",
    "rms = librosa.feature.rms(S=S)\n",
    "plt.figure()\n",
    "plt.subplot(2, 1, 1)\n",
    "plt.semilogy(rms.T, label='RMS Energy')\n",
    "plt.xticks([])\n",
    "plt.xlim([0, rms.shape[-1]])\n",
    "plt.legend()\n",
    "plt.subplot(2, 1, 2)\n",
    "librosa.display.specshow(librosa.amplitude_to_db(S, ref=np.max),\n",
    "                         y_axis='log', x_axis='time')\n",
    "plt.title('log Power spectrogram')\n",
    "plt.tight_layout()\n",
    "S = librosa.magphase(librosa.stft(y, window=np.ones, center=False))[0]\n",
    "librosa.feature.rms(S=S)\n",
    "plt.show()"
   ]
  },
  {
   "cell_type": "code",
   "execution_count": null,
   "metadata": {},
   "outputs": [],
   "source": [
    "print('sr before', sr)\n",
    "#y, sr = librosa.load( filename )\n",
    "wf, sr = torchaudio.load( filename )\n",
    "y = np.asfortranarray( wf[0].numpy() )\n",
    "D = np.abs(librosa.stft(y))\n",
    "times = librosa.times_like(D)\n",
    "plt.figure()\n",
    "ax1 = plt.subplot(2, 1, 1)\n",
    "dbs = librosa.amplitude_to_db(D, ref=np.max)\n",
    "librosa.display.specshow(librosa.amplitude_to_db(D, ref=np.max), y_axis='log', x_axis='time')\n",
    "plt.title('Power spectrogram')\n",
    "plt.show()"
   ]
  },
  {
   "cell_type": "code",
   "execution_count": null,
   "metadata": {},
   "outputs": [],
   "source": [
    "freq_sum =  D.sum(1)\n",
    "plt.plot( freq_sum )\n",
    "plt.xscale('log')\n",
    "prom_freq = freq_sum.tolist().index(max(freq_sum))\n",
    "print(f'max ss{max(freq_sum)}, position: {prom_freq} ' )\n",
    "librosa.core.fft_frequencies(sr=sr)[prom_freq:prom_freq+2]"
   ]
  },
  {
   "cell_type": "code",
   "execution_count": null,
   "metadata": {},
   "outputs": [],
   "source": [
    "D.shape"
   ]
  },
  {
   "cell_type": "code",
   "execution_count": null,
   "metadata": {},
   "outputs": [],
   "source": [
    "y, sr = librosa.load( filename )\n",
    "#GetPromFreq(y, sr)\n",
    "fr = GetFreqRange( index=GetPromFreq(y, sr), sample_rate=sr)\n",
    "print(fr) \n",
    "\n",
    "wf, sr = torchaudio.load( filename )\n",
    "y = np.asfortranarray( wf[0].numpy() )\n",
    "#GetPromFreq(y, sr)\n",
    "fr = GetFreqRange( index=GetPromFreqIndex(y, sr), sample_rate=sr)\n",
    "print(fr)"
   ]
  },
  {
   "cell_type": "code",
   "execution_count": null,
   "metadata": {},
   "outputs": [],
   "source": [
    "ang = np.angle( librosa.stft(y) )"
   ]
  }
 ],
 "metadata": {
  "kernelspec": {
   "display_name": "Python 3",
   "language": "python",
   "name": "python3"
  },
  "language_info": {
   "codemirror_mode": {
    "name": "ipython",
    "version": 3
   },
   "file_extension": ".py",
   "mimetype": "text/x-python",
   "name": "python",
   "nbconvert_exporter": "python",
   "pygments_lexer": "ipython3",
   "version": "3.7.6"
  }
 },
 "nbformat": 4,
 "nbformat_minor": 2
}
