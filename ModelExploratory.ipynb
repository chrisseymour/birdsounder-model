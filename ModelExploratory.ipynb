{
 "cells": [
  {
   "cell_type": "code",
   "execution_count": 1,
   "metadata": {},
   "outputs": [
    {
     "data": {
      "text/html": [
       "<div>\n",
       "<style scoped>\n",
       "    .dataframe tbody tr th:only-of-type {\n",
       "        vertical-align: middle;\n",
       "    }\n",
       "\n",
       "    .dataframe tbody tr th {\n",
       "        vertical-align: top;\n",
       "    }\n",
       "\n",
       "    .dataframe thead th {\n",
       "        text-align: right;\n",
       "    }\n",
       "</style>\n",
       "<table border=\"1\" class=\"dataframe\">\n",
       "  <thead>\n",
       "    <tr style=\"text-align: right;\">\n",
       "      <th></th>\n",
       "      <th>peak_Hz</th>\n",
       "      <th>peak_Q</th>\n",
       "      <th>peak_mel</th>\n",
       "      <th>fourier_freq</th>\n",
       "      <th>ampmax_n3</th>\n",
       "      <th>ampmax_n2</th>\n",
       "      <th>ampmax_n1</th>\n",
       "      <th>ampmax_0</th>\n",
       "      <th>ampmax_p1</th>\n",
       "      <th>ampmax_p2</th>\n",
       "      <th>...</th>\n",
       "      <th>max_cont1</th>\n",
       "      <th>mean_cont1</th>\n",
       "      <th>std_cont1</th>\n",
       "      <th>min_cont0</th>\n",
       "      <th>max_cont0</th>\n",
       "      <th>mean_cont0</th>\n",
       "      <th>std_cont0</th>\n",
       "      <th>num_samples</th>\n",
       "      <th>sample_rate</th>\n",
       "      <th>species</th>\n",
       "    </tr>\n",
       "  </thead>\n",
       "  <tbody>\n",
       "    <tr>\n",
       "      <th>7064</th>\n",
       "      <td>3122.314453</td>\n",
       "      <td>55</td>\n",
       "      <td>2179.317341</td>\n",
       "      <td>4524</td>\n",
       "      <td>3919.042969</td>\n",
       "      <td>3251.513672</td>\n",
       "      <td>990.527344</td>\n",
       "      <td>3445.312500</td>\n",
       "      <td>925.927734</td>\n",
       "      <td>1787.255859</td>\n",
       "      <td>...</td>\n",
       "      <td>15.389675</td>\n",
       "      <td>7.776367</td>\n",
       "      <td>2.854688</td>\n",
       "      <td>6.207670</td>\n",
       "      <td>49.834140</td>\n",
       "      <td>16.812834</td>\n",
       "      <td>6.292726</td>\n",
       "      <td>63945</td>\n",
       "      <td>44100</td>\n",
       "      <td>Purple Finch</td>\n",
       "    </tr>\n",
       "    <tr>\n",
       "      <th>7065</th>\n",
       "      <td>990.527344</td>\n",
       "      <td>23</td>\n",
       "      <td>812.193401</td>\n",
       "      <td>1426</td>\n",
       "      <td>1119.726562</td>\n",
       "      <td>947.460938</td>\n",
       "      <td>1313.525391</td>\n",
       "      <td>1248.925781</td>\n",
       "      <td>1356.591797</td>\n",
       "      <td>1399.658203</td>\n",
       "      <td>...</td>\n",
       "      <td>20.175980</td>\n",
       "      <td>8.652228</td>\n",
       "      <td>2.964021</td>\n",
       "      <td>3.466417</td>\n",
       "      <td>27.162892</td>\n",
       "      <td>17.382492</td>\n",
       "      <td>3.395468</td>\n",
       "      <td>63945</td>\n",
       "      <td>44100</td>\n",
       "      <td>Canada Goose</td>\n",
       "    </tr>\n",
       "    <tr>\n",
       "      <th>7066</th>\n",
       "      <td>3380.712891</td>\n",
       "      <td>57</td>\n",
       "      <td>2363.324628</td>\n",
       "      <td>5040</td>\n",
       "      <td>1851.855469</td>\n",
       "      <td>1873.388672</td>\n",
       "      <td>4134.375000</td>\n",
       "      <td>3725.244141</td>\n",
       "      <td>3488.378906</td>\n",
       "      <td>3423.779297</td>\n",
       "      <td>...</td>\n",
       "      <td>19.210588</td>\n",
       "      <td>7.969741</td>\n",
       "      <td>3.147229</td>\n",
       "      <td>4.315509</td>\n",
       "      <td>33.913679</td>\n",
       "      <td>18.291445</td>\n",
       "      <td>3.716284</td>\n",
       "      <td>63945</td>\n",
       "      <td>44100</td>\n",
       "      <td>Red-winged Blackbird</td>\n",
       "    </tr>\n",
       "    <tr>\n",
       "      <th>7067</th>\n",
       "      <td>6562.500000</td>\n",
       "      <td>58</td>\n",
       "      <td>2494.548689</td>\n",
       "      <td>9504</td>\n",
       "      <td>3843.750000</td>\n",
       "      <td>3890.625000</td>\n",
       "      <td>3796.875000</td>\n",
       "      <td>6562.500000</td>\n",
       "      <td>6562.500000</td>\n",
       "      <td>6585.937500</td>\n",
       "      <td>...</td>\n",
       "      <td>18.657923</td>\n",
       "      <td>9.669164</td>\n",
       "      <td>3.335448</td>\n",
       "      <td>4.150902</td>\n",
       "      <td>35.040470</td>\n",
       "      <td>13.072596</td>\n",
       "      <td>5.367213</td>\n",
       "      <td>69600</td>\n",
       "      <td>48000</td>\n",
       "      <td>Carolina Chickadee</td>\n",
       "    </tr>\n",
       "    <tr>\n",
       "      <th>7068</th>\n",
       "      <td>861.328125</td>\n",
       "      <td>17</td>\n",
       "      <td>1492.932752</td>\n",
       "      <td>491</td>\n",
       "      <td>1012.060547</td>\n",
       "      <td>2088.720703</td>\n",
       "      <td>2088.720703</td>\n",
       "      <td>5232.568359</td>\n",
       "      <td>1571.923828</td>\n",
       "      <td>2088.720703</td>\n",
       "      <td>...</td>\n",
       "      <td>18.967635</td>\n",
       "      <td>9.109535</td>\n",
       "      <td>2.977942</td>\n",
       "      <td>2.866119</td>\n",
       "      <td>26.639781</td>\n",
       "      <td>10.237051</td>\n",
       "      <td>4.299918</td>\n",
       "      <td>63945</td>\n",
       "      <td>44100</td>\n",
       "      <td>Mallard</td>\n",
       "    </tr>\n",
       "  </tbody>\n",
       "</table>\n",
       "<p>5 rows × 60 columns</p>\n",
       "</div>"
      ],
      "text/plain": [
       "          peak_Hz  peak_Q     peak_mel  fourier_freq    ampmax_n3  \\\n",
       "7064  3122.314453      55  2179.317341          4524  3919.042969   \n",
       "7065   990.527344      23   812.193401          1426  1119.726562   \n",
       "7066  3380.712891      57  2363.324628          5040  1851.855469   \n",
       "7067  6562.500000      58  2494.548689          9504  3843.750000   \n",
       "7068   861.328125      17  1492.932752           491  1012.060547   \n",
       "\n",
       "        ampmax_n2    ampmax_n1     ampmax_0    ampmax_p1    ampmax_p2  ...  \\\n",
       "7064  3251.513672   990.527344  3445.312500   925.927734  1787.255859  ...   \n",
       "7065   947.460938  1313.525391  1248.925781  1356.591797  1399.658203  ...   \n",
       "7066  1873.388672  4134.375000  3725.244141  3488.378906  3423.779297  ...   \n",
       "7067  3890.625000  3796.875000  6562.500000  6562.500000  6585.937500  ...   \n",
       "7068  2088.720703  2088.720703  5232.568359  1571.923828  2088.720703  ...   \n",
       "\n",
       "      max_cont1  mean_cont1  std_cont1  min_cont0  max_cont0  mean_cont0  \\\n",
       "7064  15.389675    7.776367   2.854688   6.207670  49.834140   16.812834   \n",
       "7065  20.175980    8.652228   2.964021   3.466417  27.162892   17.382492   \n",
       "7066  19.210588    7.969741   3.147229   4.315509  33.913679   18.291445   \n",
       "7067  18.657923    9.669164   3.335448   4.150902  35.040470   13.072596   \n",
       "7068  18.967635    9.109535   2.977942   2.866119  26.639781   10.237051   \n",
       "\n",
       "      std_cont0  num_samples  sample_rate               species  \n",
       "7064   6.292726        63945        44100          Purple Finch  \n",
       "7065   3.395468        63945        44100          Canada Goose  \n",
       "7066   3.716284        63945        44100  Red-winged Blackbird  \n",
       "7067   5.367213        69600        48000    Carolina Chickadee  \n",
       "7068   4.299918        63945        44100               Mallard  \n",
       "\n",
       "[5 rows x 60 columns]"
      ]
     },
     "execution_count": 1,
     "metadata": {},
     "output_type": "execute_result"
    }
   ],
   "source": [
    "#read in the csv to pandas\n",
    "import pandas as pd\n",
    "\n",
    "#previous files 'bird_train.csv' 'bird_train_test.csv' 'brid_train (copy).csv'\n",
    "filename =  'bird_train_2_6.csv' #'bird_train_2_6.csv_all'#\n",
    "filename = '/'.join( ('feature_tables',  filename) )\n",
    "data = pd.read_csv(filename)\n",
    "data.columns = [dd.strip('\\n').strip() for dd in data.columns]\n",
    "#create a copy to chop off the target values\n",
    "data_copy = data.copy(deep=True)\n",
    "data.tail()"
   ]
  },
  {
   "cell_type": "code",
   "execution_count": null,
   "metadata": {},
   "outputs": [],
   "source": []
  },
  {
   "cell_type": "code",
   "execution_count": null,
   "metadata": {},
   "outputs": [],
   "source": [
    "import seaborn as sns\n",
    "import numpy as np\n",
    "import matplotlib.pyplot as plt"
   ]
  },
  {
   "cell_type": "code",
   "execution_count": null,
   "metadata": {},
   "outputs": [],
   "source": [
    "#most prominent frequencies seem to be below 100 Hz, check what note this corresponds to\n",
    "#around this value will likely be a good value to applymy filter to\n",
    "#maybe a simple solution is to just set all values below a certain frequency to 0\n",
    "for n in data.peak_Hz.value_counts().items():\n",
    "    print(n)"
   ]
  },
  {
   "cell_type": "code",
   "execution_count": null,
   "metadata": {},
   "outputs": [],
   "source": [
    "\n",
    "# Compute the correlation matrix\n",
    "\n",
    "corr = data.corr()\n",
    "\n",
    "\n",
    "# Generate a mask for the upper triangle\n",
    "mask = np.triu(np.ones_like(corr, dtype=np.bool))\n",
    "\n",
    "# Set up the matplotlib figure\n",
    "f, ax = plt.subplots(figsize=(11, 9))\n",
    "\n",
    "# Generate a custom diverging colormap\n",
    "#cmap = sns.diverging_palette(220, 10, as_cmap=True) ##broken in matplotlib v3.1.1...\n",
    "cmap = 'coolwarm' #'BrBG'\n",
    "\n",
    "# Draw the heatmap with the mask and correct aspect ratio\n",
    "sns.heatmap(corr, mask=mask, cmap=cmap, vmax=1.0, center=0,\n",
    "            square=True, linewidths=.5, cbar_kws={\"shrink\": .5})\n",
    "#g = sns.pairplot(data, hue=\"species\")\n",
    "#sns.__version__"
   ]
  },
  {
   "cell_type": "code",
   "execution_count": null,
   "metadata": {},
   "outputs": [],
   "source": [
    "kendallcorr = data.corr('kendall')\n",
    "\n",
    "mask = np.triu(np.ones_like(corr, dtype=np.bool))\n",
    "\n",
    "#rcParams['figure.figsize'] = 14.7,8.27\n",
    "#cmap = sns.diverging_palette(60, 300, as_cmap=True) ##error in new matplotlib version\n",
    "cmap = 'BrBG'\n",
    "plt.figure( figsize=(11, 9) )\n",
    "\n",
    "sns.heatmap(kendallcorr, mask=mask, \n",
    "           xticklabels=corr.columns.values, \n",
    "           yticklabels=corr.columns.values, \n",
    "           cmap=cmap, center=0,#\"YlGnBu\",\n",
    "           square=True, linewidths=.5, cbar_kws={\"shrink\": .5},\n",
    "          annot=False)"
   ]
  },
  {
   "cell_type": "code",
   "execution_count": null,
   "metadata": {},
   "outputs": [],
   "source": [
    "pearsoncorr = data.corr()\n",
    "\n",
    "plt.figure(figsize=(14,10))\n",
    "\n",
    "mask = np.triu(np.ones_like(corr, dtype=np.bool))\n",
    "\n",
    "sns.heatmap(pearsoncorr, mask=mask,\n",
    "            xticklabels=pearsoncorr.columns,\n",
    "            yticklabels=pearsoncorr.columns,\n",
    "\n",
    "            cmap='RdBu_r',\n",
    "            annot=False,\n",
    "            linewidth=0.5)\n",
    "\n",
    "plt.show()"
   ]
  },
  {
   "cell_type": "code",
   "execution_count": null,
   "metadata": {},
   "outputs": [],
   "source": [
    "#check the peak frequency distribution\n",
    "data.peak_Hz.hist(bins=500)\n",
    "data[ data.peak_Hz < 1420 ].species.value_counts()"
   ]
  },
  {
   "cell_type": "code",
   "execution_count": null,
   "metadata": {},
   "outputs": [],
   "source": [
    "#check the constant Q frequency distribution\n",
    "data.peak_Q.hist(bins=500)\n",
    "data[ data.peak_Q < 10 ].species.value_counts()"
   ]
  },
  {
   "cell_type": "code",
   "execution_count": null,
   "metadata": {},
   "outputs": [],
   "source": [
    "#check the mel frequency distribution\n",
    "data.peak_mel.hist(bins=500)\n",
    "\n",
    "data[ data.peak_mel < 1000 ].species.value_counts()"
   ]
  },
  {
   "cell_type": "code",
   "execution_count": null,
   "metadata": {},
   "outputs": [],
   "source": []
  },
  {
   "cell_type": "code",
   "execution_count": 2,
   "metadata": {},
   "outputs": [
    {
     "name": "stdout",
     "output_type": "stream",
     "text": [
      "conv American Crow source 44100\n",
      "conv American Crow source 48000\n",
      "conv American Goldfinch source 44100\n",
      "conv American Goldfinch source 48000\n",
      "conv American Robin source 44100\n",
      "conv American Robin source 48000\n",
      "conv Bald Eagle source 44100\n",
      "conv Bald Eagle source 48000\n",
      "conv Blue Jay source 44100\n",
      "conv Blue Jay source 48000\n",
      "conv Brown-headed Cowbird source 44100\n",
      "conv Brown-headed Cowbird source 48000\n",
      "conv Canada Goose source 44100\n",
      "conv Canada Goose source 48000\n",
      "conv Carolina Chickadee source 44100\n",
      "conv Carolina Chickadee source 48000\n",
      "conv Eastern Bluebird source 44100\n",
      "conv Eastern Bluebird source 48000\n",
      "conv Indigo Bunting source 44100\n",
      "conv Indigo Bunting source 48000\n",
      "conv Mallard source 44100\n",
      "conv Mallard source 48000\n",
      "conv Purple Finch source 44100\n",
      "conv Purple Finch source 48000\n",
      "conv Red-winged Blackbird source 44100\n",
      "conv Red-winged Blackbird source 48000\n",
      "conv Rose-breasted Grosbeak source 44100\n",
      "conv Rose-breasted Grosbeak source 48000\n",
      "conv Scarlet Tanager source 44100\n",
      "conv Scarlet Tanager source 48000\n",
      "conv Tufted Titmouse source 44100\n",
      "conv Tufted Titmouse source 48000\n"
     ]
    },
    {
     "data": {
      "image/png": "[encoded data removed]",
      "text/plain": [
       "<Figure size 432x288 with 2 Axes>"
      ]
     },
     "metadata": {
      "needs_background": "light"
     },
     "output_type": "display_data"
    }
   ],
   "source": [
    "#plot the prominent frequency for each species vs prominent mel\n",
    "import matplotlib.pyplot as plt\n",
    "\n",
    "#spec = data.groupby('species')\n",
    "key0 = 'species'\n",
    "key1 = 'sample_rate'\n",
    "xkey = 'peak_Hz'\n",
    "ykey =  'peak_mel'\n",
    "#xykey = 'peak_before_ampmax'\n",
    "#ykey = ' peak_after_ampmax'\n",
    "\n",
    "f,axs = plt.subplots(2, 1)\n",
    "for conv, frame in data.groupby(key0):\n",
    "    \n",
    "    for source, frame2 in frame.groupby(key1):\n",
    "        print('conv', conv, 'source', source)\n",
    "        \n",
    "        if source == 44100:\n",
    "            ax = axs[0]\n",
    "        elif source == 48000:\n",
    "            ax = axs[1]\n",
    "        #elif source == 'seo':\n",
    "        #    ax = ax3\n",
    "        else:\n",
    "            raise ValueError('problem with source check in PlotInside!')\n",
    "\n",
    "        ax.scatter(frame2[xkey], frame2[ykey],\n",
    "            edgecolors='none', \n",
    "            label='{} {}, {} {}'.format(key0, conv, key1, source), #add label with conversion\n",
    "            alpha = 0.4 )\n",
    "#ax.legend()\n",
    "ax.set_xlabel( xkey )\n",
    "ax.set_ylabel( ykey )\n",
    "plt.show();"
   ]
  },
  {
   "cell_type": "code",
   "execution_count": null,
   "metadata": {},
   "outputs": [],
   "source": []
  },
  {
   "cell_type": "code",
   "execution_count": null,
   "metadata": {},
   "outputs": [],
   "source": [
    "#sns.set(style=\"ticks\", color_codes=True)\n",
    "g = sns.pairplot(data)"
   ]
  },
  {
   "cell_type": "markdown",
   "metadata": {},
   "source": [
    "### Feature Elimination"
   ]
  },
  {
   "cell_type": "code",
   "execution_count": null,
   "metadata": {},
   "outputs": [],
   "source": [
    "from sklearn.feature_selection import RFE\n",
    "selector = RFE(estimator, 5, step=1)\n",
    "selector = selector.fit(X, y)"
   ]
  },
  {
   "cell_type": "code",
   "execution_count": null,
   "metadata": {},
   "outputs": [],
   "source": []
  },
  {
   "cell_type": "markdown",
   "metadata": {},
   "source": [
    "#### random forest"
   ]
  },
  {
   "cell_type": "code",
   "execution_count": null,
   "metadata": {},
   "outputs": [],
   "source": []
  },
  {
   "cell_type": "code",
   "execution_count": null,
   "metadata": {},
   "outputs": [],
   "source": []
  },
  {
   "cell_type": "markdown",
   "metadata": {},
   "source": [
    "#### support vector machine"
   ]
  },
  {
   "cell_type": "code",
   "execution_count": null,
   "metadata": {},
   "outputs": [],
   "source": [
    "from sklearn.svm import SVC\n",
    "clf = SVC(gamma='auto')\n",
    "clf.fit(train, target_train)\n",
    "pred = clf.predict( test )"
   ]
  },
  {
   "cell_type": "code",
   "execution_count": null,
   "metadata": {},
   "outputs": [],
   "source": []
  },
  {
   "cell_type": "code",
   "execution_count": null,
   "metadata": {},
   "outputs": [],
   "source": [
    "from sklearn import svm\n",
    "clf = svm.SVC(decision_function_shape='ovo', gamma='auto')\n",
    "clf.fit(X_train, y_train)\n",
    "clf.score(X_test, y_test)"
   ]
  },
  {
   "cell_type": "markdown",
   "metadata": {},
   "source": [
    "#### multi output regressor"
   ]
  },
  {
   "cell_type": "code",
   "execution_count": null,
   "metadata": {},
   "outputs": [],
   "source": [
    "from sklearn.multioutput import MultiOutputRegressor\n",
    "from sklearn.ensemble import RandomForestRegressor\n",
    "\n",
    "max_depth = 100\n",
    "regr_multirf = MultiOutputRegressor(RandomForestRegressor(n_estimators=100, max_depth=max_depth, random_state=12))\n",
    "regr_multirf.fit(train, target_train)\n",
    "regr_multirf.score(X_test, y_test)\n",
    "\n",
    "regr_rf = RandomForestRegressor(n_estimators=100, max_depth=max_depth, random_state=2)\n",
    "regr_rf.fit(train, target_train)\n",
    "regr_rf.score(X_test, y_test)"
   ]
  },
  {
   "cell_type": "code",
   "execution_count": null,
   "metadata": {},
   "outputs": [],
   "source": [
    "for feat,imp in zip(data.columns, regr_rf.feature_importances_):\n",
    "    print(feat.strip(), imp)"
   ]
  },
  {
   "cell_type": "code",
   "execution_count": null,
   "metadata": {},
   "outputs": [],
   "source": [
    "from sklearn import svm\n",
    "from sklearn.model_selection import GridSearchCV\n",
    "from sklearn.metrics import classification_report\n",
    "\n",
    "tuned_parameters = [ {'kernel': ['rbf'], 'gamma': [1e-3],# 1e-4],\n",
    "                      'C': [1, 10]},#, 100, 1000]},\n",
    "                     {'kernel': ['linear'], 'C': [1, 10]}]#, 100, 1000]} ]\n",
    "\n",
    "scores = ['precision', 'recall']\n",
    "\n",
    "for score in scores:\n",
    "    print(f'# Tuning hyper-parameters for {score}\\n')\n",
    "    \n",
    "    clf = GridSearchCV(\n",
    "        svm.SVC(), tuned_parameters, scoring=f'{score}_macro', n_jobs=-1 )\n",
    "    clf.fit( X_train, y_train )\n",
    "    print('best params found on development set\\n')\n",
    "    print( clf.best_params_ )\n",
    "    print('\\ngrid scores on development set:\\n')\n",
    "    means = clf.cv_results_['mean_test_score']\n",
    "    stds = clf.cv_results_['std_test_score']\n",
    "    for mean,std,params in zip( means, stds, clf.cv_results_['params'] ):\n",
    "        print('{:.3f} +/-{:.3f} for {}'.format( mean, 2*std, params) )\n",
    "        print('classification report:\\n')\n",
    "        y_true, y_pred = y_test, clf.predict( X_test )\n",
    "        print( classification_report(y_true, y_pred ) )"
   ]
  },
  {
   "cell_type": "code",
   "execution_count": null,
   "metadata": {},
   "outputs": [],
   "source": []
  },
  {
   "cell_type": "code",
   "execution_count": 3,
   "metadata": {},
   "outputs": [],
   "source": [
    "#recursive feature elimination\n",
    "from sklearn.feature_selection import RFE"
   ]
  },
  {
   "cell_type": "code",
   "execution_count": null,
   "metadata": {},
   "outputs": [],
   "source": []
  },
  {
   "cell_type": "markdown",
   "metadata": {},
   "source": [
    "### handling model results"
   ]
  },
  {
   "cell_type": "code",
   "execution_count": null,
   "metadata": {},
   "outputs": [],
   "source": [
    "def GetPrediction( single_params, model, col_names, output=False ):\n",
    "    unseen_test = np.array( single_params ).reshape(-1, 1)\n",
    "    if output: print( unseen_test, unseen_test.shape )\n",
    "    prediction = regr_rf_loaded.predict( unseen_test.transpose() )\n",
    "    result = pd.DataFrame( prediction )\n",
    "    result.columns = col_names\n",
    "    res_sort = result.iloc[0].sort_values(axis=0, ascending=False)\n",
    "    \n",
    "    return res_sort\n"
   ]
  }
 ],
 "metadata": {
  "kernelspec": {
   "display_name": "Python 3",
   "language": "python",
   "name": "python3"
  },
  "language_info": {
   "codemirror_mode": {
    "name": "ipython",
    "version": 3
   },
   "file_extension": ".py",
   "mimetype": "text/x-python",
   "name": "python",
   "nbconvert_exporter": "python",
   "pygments_lexer": "ipython3",
   "version": "3.7.6"
  }
 },
 "nbformat": 4,
 "nbformat_minor": 4
}
